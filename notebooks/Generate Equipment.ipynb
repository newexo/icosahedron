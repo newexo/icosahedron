{
 "cells": [
  {
   "cell_type": "markdown",
   "id": "ff36c035-80da-40b4-b7b4-04f25d3c5f3f",
   "metadata": {},
   "source": [
    "# Generating equipment with OpenAI API\n"
   ]
  },
  {
   "cell_type": "markdown",
   "id": "fa247fb7-48bd-445e-82cc-e1b93893ab8b",
   "metadata": {},
   "source": [
    "## Prepare environment\n",
    "#### Imports and API key\n",
    "Assume that the key is in an environment variable of defined in `.env` file."
   ]
  },
  {
   "cell_type": "code",
   "execution_count": 10,
   "id": "230146b2",
   "metadata": {},
   "outputs": [],
   "source": [
    "import os\n",
    "import json\n",
    "\n",
    "from icosahedron import directories\n",
    "\n",
    "import openai\n",
    "from dotenv import load_dotenv, find_dotenv\n",
    "_ = load_dotenv(find_dotenv())\n",
    "\n",
    "openai.api_key  = os.environ['OPENAI_API_KEY']"
   ]
  },
  {
   "cell_type": "markdown",
   "id": "893e03f3-beaf-407d-be10-120d0f5760af",
   "metadata": {},
   "source": [
    "## Generate armor items using typical armor types from RPGs\n",
    "\n",
    "### First test with an example"
   ]
  },
  {
   "cell_type": "code",
   "execution_count": 3,
   "id": "cb6059af",
   "metadata": {},
   "outputs": [
    {
     "name": "stdout",
     "output_type": "stream",
     "text": [
      "{'name': 'Splint Mail', 'weight': 45, 'description': '', 'condition': 'new', 'value': 200, 'armor_class': 17, 'max_dex_bonus': 0, 'check_penalty': -7, 'spell_failure': 40, 'speed_reduction': 20}\n"
     ]
    }
   ],
   "source": [
    "delimiter = \"####\"\n",
    "json_sample = \"\"\"\n",
    "{ \\\n",
    "    \"name\": \"Chain Mail\", \\\n",
    "    \"weight\": 40, \\\n",
    "    \"description\": \"\", \\\n",
    "    \"condition\": \"new\", \\\n",
    "    \"value\": 75, \\\n",
    "    \"armor_class\": 16, \\\n",
    "    \"max_dex_bonus\": 2, \\\n",
    "    \"check_penalty\": -5, \\\n",
    "    \"spell_failure\": 30, \\\n",
    "    \"speed_reduction\": 10 \\\n",
    "} \\\n",
    "\"\"\"\n",
    "system_message = f\"\"\"\n",
    "You are a developer for software implementation of a fantasy RPG. \\\n",
    "You are adding entries to database of adventuring equipment. \\\n",
    "The name of the equipment item to implement will be delimited with \\\n",
    "{delimiter} characters.\n",
    "Output a JSON objects, where each object is like the following example: \\\n",
    "{json_sample} \\\n",
    " \\\n",
    "Only JSON objects, with nothing else.\n",
    "\"\"\"\n",
    "name = \"Splint Mail\"\n",
    "user_message = f\"Write a JSON obejct for {delimiter}{name}{delimiter}.\"\n",
    "messages =  [  \n",
    "{'role':'system', \n",
    " 'content': system_message},    \n",
    "{'role':'user', \n",
    " 'content': user_message}, \n",
    "] \n",
    "response = openai.ChatCompletion.create(\n",
    "        model=\"gpt-3.5-turbo\",\n",
    "        messages=messages,\n",
    "        temperature=0,\n",
    "    )\n",
    "item_json = response.choices[0].message[\"content\"]\n",
    "print(json.loads(item_json))"
   ]
  },
  {
   "cell_type": "markdown",
   "id": "ea7f7e95-7ab9-48a1-b814-7182cfddaf1a",
   "metadata": {},
   "source": [
    "### Use classes from icosahedron"
   ]
  },
  {
   "cell_type": "code",
   "execution_count": 5,
   "id": "fe4aa8ef-2b32-4d8f-8dc7-007cfb2de502",
   "metadata": {},
   "outputs": [],
   "source": [
    "from icosahedron.generate.generate_from_example import GeneratorArmor"
   ]
  },
  {
   "cell_type": "code",
   "execution_count": 6,
   "id": "e1b4e426-699c-481f-9559-9c804f4a092a",
   "metadata": {},
   "outputs": [
    {
     "name": "stdout",
     "output_type": "stream",
     "text": [
      "{\n",
      "    \"name\": \"Splint Mail\",\n",
      "    \"weight\": 45,\n",
      "    \"description\": \"Splint Mail Armor is made up of overlapping metal plates that are riveted together and attached to a cloth or leather backing. The plates provide excellent protection against slashing and piercing attacks, but the armor is heavy and restricts movement.\",\n",
      "    \"condition\": \"new\",\n",
      "    \"value\": 200,\n",
      "    \"armor_class\": 17,\n",
      "    \"max_dex_bonus\": 0,\n",
      "    \"check_penalty\": -7,\n",
      "    \"spell_failure\": 40,\n",
      "    \"speed_reduction\": 20\n",
      "}\n"
     ]
    }
   ],
   "source": [
    "print(GeneratorArmor(\"Splint Mail\").generate())"
   ]
  },
  {
   "cell_type": "code",
   "execution_count": 11,
   "id": "9ad16d8c-b826-4ef0-a152-bb8390c00abb",
   "metadata": {},
   "outputs": [
    {
     "data": {
      "text/plain": [
       "[{'name': 'Leather Armor',\n",
       "  'weight': 15,\n",
       "  'description': 'Leather Armor is made from the hide of various animals, treated and shaped to provide protection. It is lightweight and flexible, allowing for ease of movement while still offering a decent amount of protection.',\n",
       "  'condition': 'new',\n",
       "  'value': 10,\n",
       "  'armor_class': 11,\n",
       "  'max_dex_bonus': 2,\n",
       "  'check_penalty': 0,\n",
       "  'spell_failure': 10,\n",
       "  'speed_reduction': 0},\n",
       " {'name': 'Studded Leather Armor',\n",
       "  'weight': 20,\n",
       "  'description': 'Studded Leather Armor is made from tough leather that has been reinforced with metal studs. It provides a good balance between protection and mobility, making it a popular choice among adventurers. The metal studs not only add extra durability to the armor but also give it a stylish and intimidating appearance.',\n",
       "  'condition': 'new',\n",
       "  'value': 45,\n",
       "  'armor_class': 12,\n",
       "  'max_dex_bonus': 5,\n",
       "  'check_penalty': 0,\n",
       "  'spell_failure': 15,\n",
       "  'speed_reduction': 0},\n",
       " {'name': 'Chain Shirt',\n",
       "  'weight': 25,\n",
       "  'description': 'A Chain Shirt is a type of armor made from interlocking metal rings. It provides moderate protection while still allowing for a good range of movement. The shirt is typically worn under other layers of clothing or armor.',\n",
       "  'condition': 'new',\n",
       "  'value': 50,\n",
       "  'armor_class': 13,\n",
       "  'max_dex_bonus': 2,\n",
       "  'check_penalty': 0,\n",
       "  'spell_failure': 20,\n",
       "  'speed_reduction': 0},\n",
       " {'name': 'Splint Mail',\n",
       "  'weight': 45,\n",
       "  'description': 'Splint Mail Armor is made up of overlapping metal plates that are riveted together and attached to a cloth or leather backing. The plates provide excellent protection against slashing and piercing attacks, but the armor is heavy and restricts movement.',\n",
       "  'condition': 'new',\n",
       "  'value': 200,\n",
       "  'armor_class': 17,\n",
       "  'max_dex_bonus': 0,\n",
       "  'check_penalty': -7,\n",
       "  'spell_failure': 40,\n",
       "  'speed_reduction': 20},\n",
       " {'name': 'Banded Mail',\n",
       "  'weight': 35,\n",
       "  'description': 'Banded Mail is a type of armor made up of overlapping metal bands that are riveted together. It provides solid protection while still allowing for some mobility. The bands are typically made of steel or other strong metals, providing excellent defense against slashing and piercing attacks.',\n",
       "  'condition': 'new',\n",
       "  'value': 250,\n",
       "  'armor_class': 15,\n",
       "  'max_dex_bonus': 2,\n",
       "  'check_penalty': -6,\n",
       "  'spell_failure': 35,\n",
       "  'speed_reduction': 10},\n",
       " {'name': 'Plate Mail',\n",
       "  'weight': 60,\n",
       "  'description': 'Plate Mail Armor is a heavy suit of armor made up of large metal plates that cover the entire body. It provides excellent protection against physical attacks but can be quite cumbersome and restricts movement.',\n",
       "  'condition': 'new',\n",
       "  'value': 150,\n",
       "  'armor_class': 18,\n",
       "  'max_dex_bonus': 0,\n",
       "  'check_penalty': -6,\n",
       "  'spell_failure': 35,\n",
       "  'speed_reduction': 20}]"
      ]
     },
     "execution_count": 11,
     "metadata": {},
     "output_type": "execute_result"
    }
   ],
   "source": [
    "armor_names = [\"Leather Armor\", \"Studded Leather Armor\", \"Chain Shirt\", \"Splint Mail\", \"Banded Mail\", \"Plate Mail\"]\n",
    "armor_data = [json.loads(GeneratorArmor(name).generate()) for name in armor_names]\n",
    "armor_data"
   ]
  },
  {
   "cell_type": "code",
   "execution_count": 18,
   "id": "23c4ff67-e3aa-4389-b8e2-27a94bc638ce",
   "metadata": {},
   "outputs": [],
   "source": [
    "def d20data(fn):\n",
    "    d = directories.data(\"d20_generated\")\n",
    "    return directories.qualifyname(d, fn)"
   ]
  },
  {
   "cell_type": "code",
   "execution_count": 22,
   "id": "154b0084-0660-448f-821f-baea9a32172e",
   "metadata": {},
   "outputs": [],
   "source": [
    "with open(d20data(\"armor.json\"), \"w\") as f:\n",
    "    json.dump(armor_data, f, indent=2)"
   ]
  },
  {
   "cell_type": "code",
   "execution_count": 26,
   "id": "fb05a021-40d6-43b6-8fa5-589b0f19484b",
   "metadata": {},
   "outputs": [],
   "source": [
    "g = GeneratorArmor(\"Leather Armor\")"
   ]
  },
  {
   "cell_type": "code",
   "execution_count": 27,
   "id": "961b70dd-b321-4bab-92fb-98ae0ef2bba8",
   "metadata": {},
   "outputs": [
    {
     "data": {
      "text/plain": [
       "'{\"name\": \"Leather Armor\", \"weight\": 15, \"description\": \"Leather Armor is made from the hide of various animals, such as cows or deer, that has been treated and shaped into protective clothing. It provides a good balance between protection and mobility, making it a popular choice for adventurers who value agility.\", \"condition\": \"new\", \"value\": 10, \"armor_class\": 11, \"max_dex_bonus\": 2, \"check_penalty\": 0, \"spell_failure\": 10, \"speed_reduction\": 0}'"
      ]
     },
     "execution_count": 27,
     "metadata": {},
     "output_type": "execute_result"
    }
   ],
   "source": [
    "g.generate()"
   ]
  },
  {
   "cell_type": "code",
   "execution_count": 28,
   "id": "b0d37c24-c029-4639-9f04-6e0a63743361",
   "metadata": {},
   "outputs": [],
   "source": [
    "foo = [GeneratorArmor(n).generate() for n in [\"Leather Armor\", \"Studded Leather Armor\", \"Chain Shirt\", \"Splint Mail\", \"Banded Mail\", \"Plate Mail\"]]"
   ]
  },
  {
   "cell_type": "code",
   "execution_count": 29,
   "id": "dd4b88b6-9914-4567-960b-80664621d64f",
   "metadata": {},
   "outputs": [
    {
     "data": {
      "text/plain": [
       "['{\"name\": \"Leather Armor\", \"weight\": 15, \"description\": \"Leather Armor is made from the hide of various animals, such as cows or deer, that has been treated and shaped into protective clothing. It provides a good balance between protection and mobility, making it a popular choice for adventurers who value agility.\", \"condition\": \"new\", \"value\": 10, \"armor_class\": 11, \"max_dex_bonus\": 2, \"check_penalty\": 0, \"spell_failure\": 10, \"speed_reduction\": 0}',\n",
       " '{\"name\": \"Studded Leather Armor\", \"weight\": 13, \"description\": \"Studded Leather Armor is made from tough leather that has been reinforced with metal studs. It provides a good balance between protection and mobility, making it a popular choice among adventurers. The metal studs not only add extra durability to the armor but also give it a stylish appearance.\", \"condition\": \"new\", \"value\": 45, \"armor_class\": 12, \"max_dex_bonus\": 5, \"check_penalty\": 0, \"spell_failure\": 15, \"speed_reduction\": 0}',\n",
       " '{\"name\": \"Chain Shirt\", \"weight\": 25, \"description\": \"A Chain Shirt is a type of armor made up of interlocking metal rings, forming a flexible mesh-like structure that covers your torso. It provides moderate protection while allowing for ease of movement.\", \"condition\": \"new\", \"value\": 50, \"armor_class\": 13, \"max_dex_bonus\": 2, \"check_penalty\": 0, \"spell_failure\": 20, \"speed_reduction\": 0}',\n",
       " '{\"name\": \"Splint Mail\", \"weight\": 45, \"description\": \"Splint Mail Armor is made up of overlapping metal plates that are riveted together to form a protective shell. The plates are attached to a cloth or leather backing, providing additional comfort and flexibility. While not as flexible as chain mail, splint mail offers superior protection against slashing and piercing attacks.\", \"condition\": \"new\", \"value\": 200, \"armor_class\": 17, \"max_dex_bonus\": 0, \"check_penalty\": -7, \"spell_failure\": 40, \"speed_reduction\": 20}',\n",
       " '{\\n  \"name\": \"Banded Mail\",\\n  \"weight\": 35,\\n  \"description\": \"Banded Mail is a type of armor made from overlapping metal bands that are riveted together. It provides solid protection while allowing for some flexibility and ease of movement. The bands are typically made from steel or other durable metals, providing reliable defense against physical attacks.\",\\n  \"condition\": \"new\",\\n  \"value\": 250,\\n  \"armor_class\": 15,\\n  \"max_dex_bonus\": 2,\\n  \"check_penalty\": -6,\\n  \"spell_failure\": 35,\\n  \"speed_reduction\": 10\\n}',\n",
       " '{\"name\": \"Plate Mail\", \"weight\": 60, \"description\": \"Plate Mail Armor is a heavy and durable armor made up of large metal plates that cover the entire body. It provides excellent protection against physical attacks but can be quite cumbersome and restricts movement.\", \"condition\": \"new\", \"value\": 200, \"armor_class\": 18, \"max_dex_bonus\": 0, \"check_penalty\": -6, \"spell_failure\": 35, \"speed_reduction\": 20}']"
      ]
     },
     "execution_count": 29,
     "metadata": {},
     "output_type": "execute_result"
    }
   ],
   "source": [
    "foo"
   ]
  },
  {
   "cell_type": "code",
   "execution_count": 30,
   "id": "2b81738f-2407-4409-8079-835c956e4aeb",
   "metadata": {},
   "outputs": [
    {
     "data": {
      "text/plain": [
       "[{'name': 'Leather Armor',\n",
       "  'weight': 15,\n",
       "  'description': 'Leather Armor is made from the hide of various animals, such as cows or deer, that has been treated and shaped into protective clothing. It provides a good balance between protection and mobility, making it a popular choice for adventurers who value agility.',\n",
       "  'condition': 'new',\n",
       "  'value': 10,\n",
       "  'armor_class': 11,\n",
       "  'max_dex_bonus': 2,\n",
       "  'check_penalty': 0,\n",
       "  'spell_failure': 10,\n",
       "  'speed_reduction': 0},\n",
       " {'name': 'Studded Leather Armor',\n",
       "  'weight': 13,\n",
       "  'description': 'Studded Leather Armor is made from tough leather that has been reinforced with metal studs. It provides a good balance between protection and mobility, making it a popular choice among adventurers. The metal studs not only add extra durability to the armor but also give it a stylish appearance.',\n",
       "  'condition': 'new',\n",
       "  'value': 45,\n",
       "  'armor_class': 12,\n",
       "  'max_dex_bonus': 5,\n",
       "  'check_penalty': 0,\n",
       "  'spell_failure': 15,\n",
       "  'speed_reduction': 0},\n",
       " {'name': 'Chain Shirt',\n",
       "  'weight': 25,\n",
       "  'description': 'A Chain Shirt is a type of armor made up of interlocking metal rings, forming a flexible mesh-like structure that covers your torso. It provides moderate protection while allowing for ease of movement.',\n",
       "  'condition': 'new',\n",
       "  'value': 50,\n",
       "  'armor_class': 13,\n",
       "  'max_dex_bonus': 2,\n",
       "  'check_penalty': 0,\n",
       "  'spell_failure': 20,\n",
       "  'speed_reduction': 0},\n",
       " {'name': 'Splint Mail',\n",
       "  'weight': 45,\n",
       "  'description': 'Splint Mail Armor is made up of overlapping metal plates that are riveted together to form a protective shell. The plates are attached to a cloth or leather backing, providing additional comfort and flexibility. While not as flexible as chain mail, splint mail offers superior protection against slashing and piercing attacks.',\n",
       "  'condition': 'new',\n",
       "  'value': 200,\n",
       "  'armor_class': 17,\n",
       "  'max_dex_bonus': 0,\n",
       "  'check_penalty': -7,\n",
       "  'spell_failure': 40,\n",
       "  'speed_reduction': 20},\n",
       " {'name': 'Banded Mail',\n",
       "  'weight': 35,\n",
       "  'description': 'Banded Mail is a type of armor made from overlapping metal bands that are riveted together. It provides solid protection while allowing for some flexibility and ease of movement. The bands are typically made from steel or other durable metals, providing reliable defense against physical attacks.',\n",
       "  'condition': 'new',\n",
       "  'value': 250,\n",
       "  'armor_class': 15,\n",
       "  'max_dex_bonus': 2,\n",
       "  'check_penalty': -6,\n",
       "  'spell_failure': 35,\n",
       "  'speed_reduction': 10},\n",
       " {'name': 'Plate Mail',\n",
       "  'weight': 60,\n",
       "  'description': 'Plate Mail Armor is a heavy and durable armor made up of large metal plates that cover the entire body. It provides excellent protection against physical attacks but can be quite cumbersome and restricts movement.',\n",
       "  'condition': 'new',\n",
       "  'value': 200,\n",
       "  'armor_class': 18,\n",
       "  'max_dex_bonus': 0,\n",
       "  'check_penalty': -6,\n",
       "  'spell_failure': 35,\n",
       "  'speed_reduction': 20}]"
      ]
     },
     "execution_count": 30,
     "metadata": {},
     "output_type": "execute_result"
    }
   ],
   "source": [
    "[json.loads(f) for f in foo]"
   ]
  },
  {
   "cell_type": "code",
   "execution_count": null,
   "id": "c12e3a01-7171-424a-8223-f5b24a85692a",
   "metadata": {},
   "outputs": [],
   "source": []
  }
 ],
 "metadata": {
  "kernelspec": {
   "display_name": "Python 3 (ipykernel)",
   "language": "python",
   "name": "python3"
  },
  "language_info": {
   "codemirror_mode": {
    "name": "ipython",
    "version": 3
   },
   "file_extension": ".py",
   "mimetype": "text/x-python",
   "name": "python",
   "nbconvert_exporter": "python",
   "pygments_lexer": "ipython3",
   "version": "3.10.9"
  }
 },
 "nbformat": 4,
 "nbformat_minor": 5
}
