{
 "cells": [
  {
   "cell_type": "markdown",
   "id": "ff36c035-80da-40b4-b7b4-04f25d3c5f3f",
   "metadata": {},
   "source": [
    "# Generating equipment with OpenAI API\n"
   ]
  },
  {
   "cell_type": "markdown",
   "id": "fa247fb7-48bd-445e-82cc-e1b93893ab8b",
   "metadata": {},
   "source": [
    "## Prepare environment\n",
    "#### Imports and API key\n",
    "Assume that the key is in an environment variable of defined in `secrets.env` file."
   ]
  },
  {
   "cell_type": "code",
   "execution_count": null,
   "id": "230146b2",
   "metadata": {},
   "outputs": [],
   "source": [
    "import os\n",
    "import json\n",
    "\n",
    "from icosahedron import directories\n",
    "from icosahedron.env import load_icosahedron_env\n",
    "\n",
    "load_icosahedron_env()"
   ]
  },
  {
   "cell_type": "markdown",
   "id": "893e03f3-beaf-407d-be10-120d0f5760af",
   "metadata": {},
   "source": [
    "## Generate armor items using typical armor types from RPGs"
   ]
  },
  {
   "cell_type": "markdown",
   "id": "ea7f7e95-7ab9-48a1-b814-7182cfddaf1a",
   "metadata": {},
   "source": [
    "### Use classes from icosahedron"
   ]
  },
  {
   "cell_type": "code",
   "execution_count": null,
   "id": "fe4aa8ef-2b32-4d8f-8dc7-007cfb2de502",
   "metadata": {},
   "outputs": [],
   "source": [
    "from icosahedron.generate.generate_from_example import (\n",
    "    GeneratorFromExample,\n",
    "    ExampleItemType\n",
    ")"
   ]
  },
  {
   "cell_type": "code",
   "execution_count": null,
   "id": "23c4ff67-e3aa-4389-b8e2-27a94bc638ce",
   "metadata": {},
   "outputs": [],
   "source": [
    "def store_data(data, fn):\n",
    "    d = directories.data(\"d20_generated\")\n",
    "    path = directories.qualifyname(d, fn)\n",
    "    with open(path, \"w\") as f:\n",
    "        json.dump(data, f, indent=2)"
   ]
  },
  {
   "cell_type": "code",
   "execution_count": null,
   "id": "e1b4e426-699c-481f-9559-9c804f4a092a",
   "metadata": {},
   "outputs": [],
   "source": [
    "GeneratorFromExample.get_generator(ExampleItemType.ARMOR, \"Splint Mail\").generate()"
   ]
  },
  {
   "cell_type": "markdown",
   "id": "2c3d07c9-afe0-4b0c-9fd6-2ed37de116a5",
   "metadata": {},
   "source": [
    "#### Generate armor data"
   ]
  },
  {
   "cell_type": "code",
   "execution_count": null,
   "id": "9ad16d8c-b826-4ef0-a152-bb8390c00abb",
   "metadata": {
    "scrolled": true
   },
   "outputs": [],
   "source": [
    "armor_names = [\n",
    "    \"Leather Armor\",\n",
    "    \"Studded Leather Armor\",\n",
    "    \"Chain Shirt\",\n",
    "    \"Splint Mail\",\n",
    "    \"Banded Mail\",\n",
    "    \"Plate Mail\",\n",
    "]\n",
    "armor_data = await GeneratorFromExample.generate_items(ExampleItemType.ARMOR, armor_names)\n",
    "armor_data"
   ]
  },
  {
   "cell_type": "code",
   "execution_count": null,
   "id": "154b0084-0660-448f-821f-baea9a32172e",
   "metadata": {},
   "outputs": [],
   "source": [
    "store_data(armor_data, \"armor.json\")"
   ]
  },
  {
   "cell_type": "markdown",
   "id": "7e785ffc-2beb-4214-8b67-ea146c409db0",
   "metadata": {},
   "source": [
    "#### Generate weapon data"
   ]
  },
  {
   "cell_type": "code",
   "execution_count": null,
   "id": "c12e3a01-7171-424a-8223-f5b24a85692a",
   "metadata": {},
   "outputs": [],
   "source": [
    "weapon_names = [\n",
    "    \"Longsword\",\n",
    "    \"Shortsword\",\n",
    "    \"Greatsword\",\n",
    "    \"Battleaxe\",\n",
    "    \"Greataxe\",\n",
    "    \"Mace\",\n",
    "    \"Spear\",\n",
    "    \"Dagger\",\n",
    "    \"Rapier\",\n",
    "    \"Scimitar\",\n",
    "    \"Flail\",\n",
    "    \"Morningstar\",\n",
    "    \"Halberd\",\n",
    "    \"Club\",\n",
    "    \"Quarterstaff\",\n",
    "    \"Falchion\",\n",
    "]\n",
    "weapon_data = await GeneratorFromExample.generate_items(ExampleItemType.WEAPON, weapon_names)\n",
    "weapon_data\n"
   ]
  },
  {
   "cell_type": "code",
   "execution_count": null,
   "id": "403ddbb7-6023-41ab-8d1a-2483188f75f9",
   "metadata": {},
   "outputs": [],
   "source": [
    "store_data(weapon_data, \"weapon.json\")"
   ]
  },
  {
   "cell_type": "markdown",
   "id": "5928727b-0076-4087-9866-89fa8dca2bcb",
   "metadata": {},
   "source": [
    "#### Generate magic rings"
   ]
  },
  {
   "cell_type": "code",
   "execution_count": null,
   "id": "ba4e4fd5-f468-4ed2-91bb-4710f69168bd",
   "metadata": {},
   "outputs": [],
   "source": [
    "ring_names = [\n",
    "    \"Ring of Protection\",\n",
    "    \"Ring of Invisibility\",\n",
    "    \"Ring of Strength\",\n",
    "    \"Ring of Regeneration\",\n",
    "    \"Ring of Spell Storing\",\n",
    "    \"Ring of Feather Falling\",\n",
    "    \"Ring of Water Walking\",\n",
    "    \"Ring of Teleportation\",\n",
    "    \"Ring of Fire Resistance\",\n",
    "    \"Ring of Mind Shielding\",\n",
    "    \"Ring of Invisibility Detection\",\n",
    "    \"Ring of Sustenance\",\n",
    "    \"Ring of Elemental Control\",\n",
    "    \"Ring of the Ram\",\n",
    "    \"Ring of Telekinesis\",\n",
    "]\n",
    "ring_data = await GeneratorFromExample.generate_items(ExampleItemType.MAGIC_RING, ring_names)\n",
    "ring_data"
   ]
  },
  {
   "cell_type": "code",
   "execution_count": null,
   "id": "3b54cf49-739a-47b1-aff7-0f428f730e9c",
   "metadata": {},
   "outputs": [],
   "source": [
    "store_data(ring_data, \"ring.json\")"
   ]
  },
  {
   "cell_type": "markdown",
   "id": "20cee44b-33bc-42b7-9461-4bf46692b98f",
   "metadata": {},
   "source": [
    "#### Generate adventuring gear"
   ]
  },
  {
   "cell_type": "code",
   "execution_count": null,
   "id": "8ddff5f1-7ce7-42b2-a24d-65a84f86ba05",
   "metadata": {},
   "outputs": [],
   "source": [
    "gear_names = [\n",
    "    \"Backpack\",\n",
    "    \"Rations (iron or standard)\",\n",
    "    \"Waterskin\",\n",
    "    \"Torch\",\n",
    "    \"Lantern\",\n",
    "    \"Rope (hemp or silk)\",\n",
    "    \"Grappling Hook\",\n",
    "    \"Lockpicks\",\n",
    "    \"Crowbar\",\n",
    "    \"Climbing Gear (pitons, carabiners, harness)\",\n",
    "    \"Map and Compass\",\n",
    "    \"Healer's Kit\",\n",
    "    \"Tent\",\n",
    "    \"Mirror\",\n",
    "    \"10-Foot Pole\",\n",
    "    \"Blanket or Bedroll\",\n",
    "    \"Flint and Steel\",\n",
    "    \"Potion Vials\",\n",
    "    \"Sack or Bag\",\n",
    "    \"Spyglass\"\n",
    "]\n",
    "gear_data = await GeneratorFromExample.generate_items(ExampleItemType.GENERIC_ITEM, gear_names)\n",
    "gear_data"
   ]
  },
  {
   "cell_type": "code",
   "execution_count": null,
   "id": "02d53c8f-e645-4f20-b48f-6fba2f51fce0",
   "metadata": {},
   "outputs": [],
   "source": [
    "store_data(gear_data, \"gear.json\")"
   ]
  },
  {
   "cell_type": "code",
   "execution_count": null,
   "id": "3d2de27a-5f41-4c0f-b2bd-bf35b9aba2c9",
   "metadata": {},
   "outputs": [],
   "source": []
  }
 ],
 "metadata": {
  "kernelspec": {
   "display_name": "Python 3 (ipykernel)",
   "language": "python",
   "name": "python3"
  },
  "language_info": {
   "codemirror_mode": {
    "name": "ipython",
    "version": 3
   },
   "file_extension": ".py",
   "mimetype": "text/x-python",
   "name": "python",
   "nbconvert_exporter": "python",
   "pygments_lexer": "ipython3",
   "version": "3.11.9"
  }
 },
 "nbformat": 4,
 "nbformat_minor": 5
}
