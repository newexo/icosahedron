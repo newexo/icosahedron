{
 "cells": [
  {
   "cell_type": "code",
   "execution_count": 1,
   "id": "ba5fa73f-eb87-4bea-b0de-0fe9fdcb9ecc",
   "metadata": {},
   "outputs": [],
   "source": [
    "from icosahedron.generate.ollama_model_context import OllamaModelContext\n",
    "from icosahedron.generate.model_context import ModelContext\n",
    "from icosahedron.directories import templates\n",
    "from icosahedron.generate.templated_generator import TemplatedGenerator\n"
   ]
  },
  {
   "cell_type": "code",
   "execution_count": 2,
   "id": "b50f8659-6a0b-4b7a-a3f9-5a12f8f20607",
   "metadata": {},
   "outputs": [],
   "source": [
    "with open(templates(\"magic_ring_list.txt\")) as f:\n",
    "    default_magic_ring_list_template = f.read()\n",
    "\n",
    "\n",
    "class RingNameGenerator(TemplatedGenerator):\n",
    "    def __init__(\n",
    "        self,\n",
    "        context: ModelContext,\n",
    "        prompt_template: str = default_magic_ring_list_template,\n",
    "    ):\n",
    "        super().__init__(prompt_template=prompt_template, context=context)\n",
    "\n",
    "    def generate(\n",
    "        self,\n",
    "        culture: str = \"European high fantasy\",\n",
    "        number: int = 30,\n",
    "    ):\n",
    "        prompt_formatted_str: str = self.prompt_formatted_str(\n",
    "            culture=culture, number=number\n",
    "        )\n",
    "        result = self.llm.invoke(prompt_formatted_str)\n",
    "        return self.context.interpret_json_result(result)\n"
   ]
  },
  {
   "cell_type": "code",
   "execution_count": 3,
   "id": "93c46dec-0bc8-4d87-899d-700b68a880d0",
   "metadata": {},
   "outputs": [],
   "source": [
    "generator = RingNameGenerator(context=OllamaModelContext(model_name=\"gemma2\", temperature=0))"
   ]
  },
  {
   "cell_type": "code",
   "execution_count": 4,
   "id": "97ded0a2-1995-4dae-a765-27e5a45604d6",
   "metadata": {
    "scrolled": true
   },
   "outputs": [
    {
     "data": {
      "text/plain": [
       "['Ring of the Swift Wind',\n",
       " 'Ring of the Silent Step',\n",
       " \"Ring of the Dragon's Breath\",\n",
       " 'Ring of the Moonlit Grove',\n",
       " \"Ring of the Sun's Embrace\",\n",
       " 'Ring of the Everlasting Flame',\n",
       " 'Ring of the Deep Sea',\n",
       " \"Ring of the Mountain's Heart\",\n",
       " \"Ring of the Scholar's Insight\",\n",
       " \"Ring of the Weaver's Touch\"]"
      ]
     },
     "execution_count": 4,
     "metadata": {},
     "output_type": "execute_result"
    }
   ],
   "source": [
    "generator.generate(number=10)"
   ]
  },
  {
   "cell_type": "code",
   "execution_count": 21,
   "id": "53586ce7-272f-46c5-8ab1-c16eba9925ad",
   "metadata": {},
   "outputs": [],
   "source": [
    "generator = RingNameGenerator(context=OllamaModelContext(model_name=\"mistral-nemo\", temperature=0))"
   ]
  },
  {
   "cell_type": "code",
   "execution_count": 22,
   "id": "67e8c7c5-b35f-48be-b729-bf82b3a167cd",
   "metadata": {
    "scrolled": true
   },
   "outputs": [
    {
     "data": {
      "text/plain": [
       "['Ring of Healing',\n",
       " 'Ring of Strength',\n",
       " 'Ring of Agility',\n",
       " 'Ring of Intelligence',\n",
       " 'Ring of Wisdom',\n",
       " 'Ring of Charisma',\n",
       " 'Ring of Protection',\n",
       " 'Ring of Resistance',\n",
       " 'Ring of Regeneration',\n",
       " 'Ring of Invisibility',\n",
       " 'Ring of Teleportation',\n",
       " 'Ring of Flight',\n",
       " 'Ring of Water Breathing',\n",
       " 'Ring of Animal Communication',\n",
       " 'Ring of Plant Control',\n",
       " 'Ring of Necromancy',\n",
       " 'Ring of Divination',\n",
       " 'Ring of Alchemy',\n",
       " 'Ring of Enchantment',\n",
       " 'Ring of Illusion',\n",
       " 'Ring of Truth',\n",
       " 'Ring of Lies',\n",
       " 'Ring of Love',\n",
       " 'Ring of Hate',\n",
       " 'Ring of Madness',\n",
       " 'Ring of Sanity',\n",
       " 'Ring of Dreams',\n",
       " 'Ring of Nightmares',\n",
       " 'Ring of Time',\n",
       " 'Ring of Age',\n",
       " 'Ring of Youth',\n",
       " 'Ring of Death',\n",
       " 'Ring of Life',\n",
       " 'Ring of Light',\n",
       " 'Ring of Darkness',\n",
       " 'Ring of Order',\n",
       " 'Ring of Chaos',\n",
       " 'Ring of War',\n",
       " 'Ring of Peace',\n",
       " 'Ring of Justice',\n",
       " 'Ring of Mercy',\n",
       " 'Ring of Greed',\n",
       " 'Ring of Generosity',\n",
       " 'Ring of Lust',\n",
       " 'Ring of Purity',\n",
       " 'Ring of Courage',\n",
       " 'Ring of Cowardice',\n",
       " 'Ring of Honor',\n",
       " 'Ring of Dishonor',\n",
       " 'Ring of Fate',\n",
       " 'Ring of Destiny',\n",
       " 'Ring of Luck',\n",
       " 'Ring of Misfortune',\n",
       " 'Ring of Power',\n",
       " 'Ring of Weakness',\n",
       " 'Ring of Knowledge',\n",
       " 'Ring of Ignorance',\n",
       " 'Ring of Memory',\n",
       " 'Ring of Forgetfulness',\n",
       " 'Ring of Silence',\n",
       " 'Ring of Sound',\n",
       " 'Ring of Gravity',\n",
       " 'Ring of Levitation',\n",
       " 'Ring of Force',\n",
       " 'Ring of Weakness',\n",
       " 'Ring of Binding',\n",
       " 'Ring of Freedom',\n",
       " 'Ring of Slavery',\n",
       " 'Ring of Liberation',\n",
       " \"Ring of Death's Embrace\",\n",
       " \"Ring of Life's Kiss\",\n",
       " 'Ring of the Sun',\n",
       " 'Ring of the Moon',\n",
       " 'Ring of the Stars',\n",
       " 'Ring of the Elements',\n",
       " 'Ring of the Ancestors',\n",
       " 'Ring of the Gods',\n",
       " 'Ring of the Fey',\n",
       " 'Ring of the Dragons',\n",
       " 'Ring of the Dwarves',\n",
       " 'Ring of the Elves',\n",
       " 'Ring of the Orcs',\n",
       " 'Ring of the Undead',\n",
       " 'Ring of the Abyss',\n",
       " 'Ring of the Heavens',\n",
       " 'Ring of the Earth',\n",
       " 'Ring of the Sea',\n",
       " 'Ring of the Sky',\n",
       " 'Ring of the Wind',\n",
       " 'Ring of the Storm',\n",
       " 'Ring of the Wild',\n",
       " 'Ring of the Civilized',\n",
       " 'Ring of the Past',\n",
       " 'Ring of the Future',\n",
       " 'Ring of the Present',\n",
       " 'Ring of the Void',\n",
       " 'Ring of the Nexus',\n",
       " 'Ring of the Convergence',\n",
       " 'Ring of the Balance',\n",
       " 'Ring of the Harmony',\n",
       " 'Ring of the Discord',\n",
       " 'Ring of the Conflict',\n",
       " 'Ring of the Unity',\n",
       " 'Ring of the Duality']"
      ]
     },
     "execution_count": 22,
     "metadata": {},
     "output_type": "execute_result"
    }
   ],
   "source": [
    "generator.generate(number=100)"
   ]
  },
  {
   "cell_type": "code",
   "execution_count": 23,
   "id": "7cc72853-d35a-4f3c-8986-e902db2f7812",
   "metadata": {
    "scrolled": true
   },
   "outputs": [
    {
     "data": {
      "text/plain": [
       "['Ring of Jade Dragon',\n",
       " 'Ring of Celestial Phoenix',\n",
       " 'Ring of Iron Tiger',\n",
       " 'Ring of Bamboo Serpent',\n",
       " 'Ring of Pearl Dragon',\n",
       " 'Ring of Vermilion Bird',\n",
       " 'Ring of Black Tortoise',\n",
       " 'Ring of White Tiger',\n",
       " 'Ring of Azure Dragon',\n",
       " 'Ring of Crimson Phoenix']"
      ]
     },
     "execution_count": 23,
     "metadata": {},
     "output_type": "execute_result"
    }
   ],
   "source": [
    "generator.generate(culture=\"Fantasy world based on ancient Chinese history\", number=10)"
   ]
  },
  {
   "cell_type": "code",
   "execution_count": 24,
   "id": "2c98955c-85d7-40fa-a88d-c450f4432ad9",
   "metadata": {},
   "outputs": [
    {
     "data": {
      "text/plain": [
       "[\"Ring of Helios' Flame\",\n",
       " \"Ring of Poseidon's Tide\",\n",
       " \"Ring of Gaia's Strength\",\n",
       " \"Ring of Zephyr's Breath\",\n",
       " \"Ring of Hades' Shadow\",\n",
       " \"Ring of Athena's Wisdom\",\n",
       " \"Ring of Artemis' Hunt\",\n",
       " \"Ring of Hermes' Speed\",\n",
       " \"Ring of Aphrodite's Charm\",\n",
       " \"Ring of Apollo's Light\"]"
      ]
     },
     "execution_count": 24,
     "metadata": {},
     "output_type": "execute_result"
    }
   ],
   "source": [
    "generator.generate(culture=\"Fantasy world based on classical Greek history\", number=10)"
   ]
  },
  {
   "cell_type": "code",
   "execution_count": 25,
   "id": "d807d47b-6ba4-4bea-90bc-69d372f5d50c",
   "metadata": {},
   "outputs": [
    {
     "data": {
      "text/plain": [
       "[\"R'lyehian Signet Ring\",\n",
       " \"Yog-Sothoth's Loop\",\n",
       " \"Cthulhu's Seal Ring\",\n",
       " \"Nyarlathotep's Serpent Ring\",\n",
       " \"Shub-Niggurath's Goat Ring\",\n",
       " 'Dreamscape Band',\n",
       " 'Elder Sign Ring',\n",
       " \"Ph'nglui Mglw'nafh Ring\",\n",
       " 'Necronomicon Seal Ring',\n",
       " 'Miskatonic University Ring']"
      ]
     },
     "execution_count": 25,
     "metadata": {},
     "output_type": "execute_result"
    }
   ],
   "source": [
    "generator.generate(culture=\"Fantasy world based on Cthulu mythos\", number=10)"
   ]
  },
  {
   "cell_type": "code",
   "execution_count": 26,
   "id": "b86c18a7-7734-4502-ab31-18706ac60cad",
   "metadata": {},
   "outputs": [
    {
     "data": {
      "text/plain": [
       "[\"Ring of Thor's Thunder\",\n",
       " \"Bifrost's Rainbow Ring\",\n",
       " \"Nidhogg's Dragon Ring\",\n",
       " \"Yggdrasil's World Tree Ring\",\n",
       " \"Fenrir's Wolf Ring\",\n",
       " \"Helheim's Death Ring\",\n",
       " \"Jotunheim's Giant Ring\",\n",
       " \"Midgard's Human Ring\",\n",
       " \"Asgard's God Ring\",\n",
       " \"Mjolnir's Hammer Ring\"]"
      ]
     },
     "execution_count": 26,
     "metadata": {},
     "output_type": "execute_result"
    }
   ],
   "source": [
    "generator.generate(culture=\"Fantasy world based on Norse mythology\", number=10)"
   ]
  },
  {
   "cell_type": "code",
   "execution_count": 27,
   "id": "a5fd8d1d-0820-4c77-9a57-725207fa6b21",
   "metadata": {},
   "outputs": [
    {
     "data": {
      "text/plain": [
       "[\"Ahuizotl's Ring of Transformation\",\n",
       " \"Quetzalcoatl's Feathered Serpent Ring\",\n",
       " \"Tlaloc's Storm Ring\",\n",
       " \"Xochiquetzal's Blossoming Ring\",\n",
       " \"Huitzilopochtli's Eagle Warrior Ring\",\n",
       " \"Teotihuacan's Sun Stone Ring\",\n",
       " \"Coatlicue's Smoking Mirror Ring\",\n",
       " \"Mictlantecuhtli's Death's Embrace Ring\",\n",
       " \"Chacmool's Sacrifice Ring\",\n",
       " \"Tezcatlipoca's Obsidian Mirror Ring\"]"
      ]
     },
     "execution_count": 27,
     "metadata": {},
     "output_type": "execute_result"
    }
   ],
   "source": [
    "generator.generate(culture=\"Fantasy world based on Aztec mythology\", number=10)"
   ]
  },
  {
   "cell_type": "code",
   "execution_count": 28,
   "id": "12a36739-15ca-4b4d-83a4-729329fab7f9",
   "metadata": {},
   "outputs": [
    {
     "data": {
      "text/plain": [
       "['Ring of Maize God',\n",
       " 'Ring of Jaguar Warrior',\n",
       " 'Ring of Quetzalcoatl',\n",
       " 'Ring of Xibalba',\n",
       " 'Ring of Howler Monkey',\n",
       " 'Ring of Corn Goddess',\n",
       " 'Ring of Death Defier',\n",
       " 'Ring of Feathered Serpent',\n",
       " 'Ring of Rain God',\n",
       " 'Ring of Underworld Guardian']"
      ]
     },
     "execution_count": 28,
     "metadata": {},
     "output_type": "execute_result"
    }
   ],
   "source": [
    "generator.generate(culture=\"Fantasy world based on Popol Vu\", number=10)"
   ]
  },
  {
   "cell_type": "code",
   "execution_count": 29,
   "id": "a9f9e563-aec2-444c-9cb0-9ae0aa06efbb",
   "metadata": {},
   "outputs": [
    {
     "data": {
      "text/plain": [
       "[\"Kusanagi's Ring\",\n",
       " 'Yin-Yang Ring',\n",
       " \"Ryujin's Tide Ring\",\n",
       " \"Amaterasu's Dawn Ring\",\n",
       " \"Susanoo's Storm Ring\",\n",
       " \"Tsukuyomi's Moonlit Ring\",\n",
       " \"Inari's Fox Fire Ring\",\n",
       " \"Raijin's Thunder Ring\",\n",
       " \"Kitsune's Trickster Ring\",\n",
       " 'Yokai Banishing Ring']"
      ]
     },
     "execution_count": 29,
     "metadata": {},
     "output_type": "execute_result"
    }
   ],
   "source": [
    "generator.generate(culture=\"Fantasy world based on Japanese mythology\", number=10)"
   ]
  },
  {
   "cell_type": "code",
   "execution_count": 30,
   "id": "1f5e3844-c008-4608-85bf-297ea52af436",
   "metadata": {},
   "outputs": [
    {
     "data": {
      "text/plain": [
       "['Neon Circuit Ring',\n",
       " 'Cthonic Resonance Band',\n",
       " 'Cybernetic Arcane Loop',\n",
       " 'Quantum Entanglement Ring',\n",
       " 'Necronomicon Seal Ring',\n",
       " 'Glitching Reality Ring',\n",
       " 'Data Stream Sorcery Ring',\n",
       " 'Eldritch AI Control Ring',\n",
       " 'Hacked Arcana Ring',\n",
       " 'Cryptic Cybernetic Circlet']"
      ]
     },
     "execution_count": 30,
     "metadata": {},
     "output_type": "execute_result"
    }
   ],
   "source": [
    "generator.generate(culture=\"Fantasy-cyberpunk mixed world based on William Gibbson and HP Lovecraft\", number=10)"
   ]
  },
  {
   "cell_type": "code",
   "execution_count": 31,
   "id": "4f58f52e-588b-4e8c-adbd-a8c4b78591cb",
   "metadata": {
    "scrolled": true
   },
   "outputs": [
    {
     "data": {
      "text/plain": [
       "['Ring of Umbral Shadows',\n",
       " 'Band of Darkflame',\n",
       " 'Signet of Webspinner',\n",
       " 'Amulet of Shadowstride',\n",
       " 'Ring of Stygian Silence',\n",
       " \"Band of Lolth's Favor\",\n",
       " \"Signet of Drider's Swiftness\",\n",
       " 'Amulet of Umbral Haste',\n",
       " 'Ring of Shadow Weave',\n",
       " 'Band of Drow Enchantment']"
      ]
     },
     "execution_count": 31,
     "metadata": {},
     "output_type": "execute_result"
    }
   ],
   "source": [
    "generator.generate(culture=\"Dark elf from the Underdark\", number=10)"
   ]
  },
  {
   "cell_type": "code",
   "execution_count": 32,
   "id": "2d7accfa-0880-466e-acf5-9bd42ae4cfa7",
   "metadata": {
    "scrolled": true
   },
   "outputs": [
    {
     "data": {
      "text/plain": [
       "[\"Rune of Stone's Resilience\",\n",
       " 'Band of Iron Will',\n",
       " 'Circle of Ancestral Flame',\n",
       " \"Hoop of Mountain's Echo\",\n",
       " 'Aegis of Dwarven Forge',\n",
       " 'Signet of Mithril Might',\n",
       " \"Vanguard's Vanguard Ring\",\n",
       " \"Crest of Stoneheart's Courage\",\n",
       " 'Bullion Band of Treasure Seeker',\n",
       " \"Mole's Eye Ring\"]"
      ]
     },
     "execution_count": 32,
     "metadata": {},
     "output_type": "execute_result"
    }
   ],
   "source": [
    "generator.generate(culture=\"Dwarven (mountain dwarf)\", number=10)"
   ]
  },
  {
   "cell_type": "code",
   "execution_count": 9,
   "id": "af36ff6f-d52b-4d4b-80a4-fb814da4be60",
   "metadata": {
    "scrolled": true
   },
   "outputs": [
    {
     "data": {
      "text/plain": [
       "[{'name': 'Drogthar Stoneheart',\n",
       "  'etymology': \"Derived from Old Dwarvish 'drog' meaning 'iron' and 'thar' meaning 'strong', reflecting her unyielding nature.\",\n",
       "  'origin': 'Dwarven',\n",
       "  'gender': 'female'},\n",
       " {'name': 'Glimmer Goldvein',\n",
       "  'etymology': \"'Glimmer' is derived from Old Dwarvish 'glimma' meaning 'spark', and 'Goldvein' refers to her family's rich mining heritage.\",\n",
       "  'origin': 'Dwarven',\n",
       "  'gender': 'female'},\n",
       " {'name': 'Kazad Dinsdelver',\n",
       "  'etymology': \"'Kazad' is derived from Old Dwarvish 'kaz' meaning 'dig', and 'Dinsdelver' refers to her family's history of deep mining.\",\n",
       "  'origin': 'Dwarven',\n",
       "  'gender': 'female'},\n",
       " {'name': 'Morgwyn Stonebeard',\n",
       "  'etymology': \"'Morgwyn' is derived from Old Dwarvish 'morg' meaning 'dark' and 'gwyn' meaning 'white', reflecting her dual nature, and 'Stonebeard' is a traditional family name.\",\n",
       "  'origin': 'Dwarven',\n",
       "  'gender': 'female'},\n",
       " {'name': 'Ragnild Ironfist',\n",
       "  'etymology': \"'Ragnild' is derived from Old Dwarvish 'ragni' meaning 'battle' and 'ild' meaning 'strength', and 'Ironfist' reflects her formidable combat prowess.\",\n",
       "  'origin': 'Dwarven',\n",
       "  'gender': 'female'},\n",
       " {'name': 'Sigrun Blacksmith',\n",
       "  'etymology': \"'Sigrun' is derived from Old Dwarvish 'sigr' meaning 'victory' and 'run' meaning 'secret', and 'Blacksmith' indicates her profession.\",\n",
       "  'origin': 'Dwarven',\n",
       "  'gender': 'female'},\n",
       " {'name': 'Thora Shieldmaiden',\n",
       "  'etymology': \"'Thora' is derived from Old Dwarvish 'thora' meaning 'thunder', and 'Shieldmaiden' signifies her role as a warrior.\",\n",
       "  'origin': 'Dwarven',\n",
       "  'gender': 'female'},\n",
       " {'name': 'Valdis Stoneborn',\n",
       "  'etymology': \"'Valdis' is derived from Old Dwarvish 'valdi' meaning 'powerful' and 'Stoneborn' reflects her lineage from a long line of stoneworkers.\",\n",
       "  'origin': 'Dwarven',\n",
       "  'gender': 'female'},\n",
       " {'name': 'Yrsa Stonekeeper',\n",
       "  'etymology': \"'Yrsa' is derived from Old Dwarvish 'yrsa' meaning 'goddess', and 'Stonekeeper' signifies her role as a guardian of ancient dwarven artifacts.\",\n",
       "  'origin': 'Dwarven',\n",
       "  'gender': 'female'},\n",
       " {'name': 'Zora Earthmother',\n",
       "  'etymology': \"'Zora' is derived from Old Dwarvish 'zora' meaning 'earth', and 'Earthmother' reflects her deep connection to the earth and nature.\",\n",
       "  'origin': 'Dwarven',\n",
       "  'gender': 'female'}]"
      ]
     },
     "execution_count": 9,
     "metadata": {},
     "output_type": "execute_result"
    }
   ],
   "source": [
    "generator.generate(culture=\"Dwarven (mountain dwarf)\", gender=\"female\", number=10)"
   ]
  },
  {
   "cell_type": "code",
   "execution_count": 33,
   "id": "92c0fada-d793-4d85-a2c9-887f1d5ae2e0",
   "metadata": {},
   "outputs": [
    {
     "data": {
      "text/plain": [
       "[\"Ring of Stone's Endurance\",\n",
       " \"Ring of Iron's Might\",\n",
       " \"Ring of Coal's Ember\",\n",
       " \"Ring of Gem's Luster\",\n",
       " \"Ring of Clockwork's Tick\",\n",
       " \"Ring of Forge's Heat\",\n",
       " \"Ring of Gloom's Veil\",\n",
       " \"Ring of Mist's Whisper\",\n",
       " \"Ring of Runestone's Power\",\n",
       " \"Ring of Ancestor's Wisdom\"]"
      ]
     },
     "execution_count": 33,
     "metadata": {},
     "output_type": "execute_result"
    }
   ],
   "source": [
    "generator.generate(culture=\"Gray gnomes from Forgotten Realms\", number=10)"
   ]
  },
  {
   "cell_type": "code",
   "execution_count": 7,
   "id": "847ab4a3-4fbf-4119-8d42-c6d821cd9181",
   "metadata": {},
   "outputs": [],
   "source": [
    "with open(templates(\"magic_ring_template.txt\")) as f:\n",
    "    default_magic_ring_template = f.read()\n",
    "    \n",
    "\n",
    "class RingDetailsGenerator(TemplatedGenerator):\n",
    "    def __init__(\n",
    "        self,\n",
    "        context: ModelContext,\n",
    "        prompt_template: str = default_magic_ring_template,\n",
    "    ):\n",
    "        super().__init__(prompt_template=prompt_template, context=context)\n",
    "\n",
    "    def generate(\n",
    "        self,\n",
    "        culture: str = \"European high fantasy\",\n",
    "        name: str = \"Ring of Invisibility\",\n",
    "    ):\n",
    "        prompt_formatted_str: str = self.prompt_formatted_str(\n",
    "            culture=culture, name=name\n",
    "        )\n",
    "        result = self.llm.invoke(prompt_formatted_str)\n",
    "        return self.context.interpret_json_result(result)"
   ]
  },
  {
   "cell_type": "code",
   "execution_count": 8,
   "id": "0ee5cb84-b761-4d78-8a3e-34c1dc77174b",
   "metadata": {},
   "outputs": [],
   "source": [
    "generator = RingDetailsGenerator(context=OllamaModelContext(model_name=\"mistral-nemo\", temperature=0))"
   ]
  },
  {
   "cell_type": "code",
   "execution_count": 10,
   "id": "5a9d8bfe-25f4-443a-92cb-5dd7d74a5bf3",
   "metadata": {},
   "outputs": [
    {
     "data": {
      "text/plain": [
       "{'name': 'Ring of Protection +1',\n",
       " 'description': 'This silver ring, adorned with a intricate rune, grants the wearer advantage on saving throws against spells and provides resistance to necrotic damage.',\n",
       " 'value': 500,\n",
       " 'magic_bonus': '+1',\n",
       " 'effect': {'saving_throws': 'advantage', 'damage_resistance': ['necrotic']}}"
      ]
     },
     "execution_count": 10,
     "metadata": {},
     "output_type": "execute_result"
    }
   ],
   "source": [
    "generator.generate(name=\"Ring of Protection +1\")"
   ]
  },
  {
   "cell_type": "code",
   "execution_count": 11,
   "id": "22b8f339-1dfa-41b7-b453-2d3cbaa7c697",
   "metadata": {},
   "outputs": [
    {
     "data": {
      "text/plain": [
       "{'name': 'Ring of Fools',\n",
       " 'description': 'This ring causes its wearer to act foolishly, making them prone to mistakes and poor decisions.',\n",
       " 'value': 500,\n",
       " 'magic_bonus': '-2 to Intelligence checks',\n",
       " 'effect': 'Once per long rest, the wearer must make a DC 15 Wisdom saving throw or act in a manner that is detrimental to their goals.'}"
      ]
     },
     "execution_count": 11,
     "metadata": {},
     "output_type": "execute_result"
    }
   ],
   "source": [
    "generator.generate(name=\"Ring of Fools\")"
   ]
  },
  {
   "cell_type": "code",
   "execution_count": 12,
   "id": "c82cb653-fb6b-4766-9cfb-7fb579989b7d",
   "metadata": {},
   "outputs": [
    {
     "data": {
      "text/plain": [
       "{'name': 'Ring of Weakness',\n",
       " 'description': 'This plain silver band causes any spell cast by the wearer to have its save DC reduced by 2.',\n",
       " 'value': 500,\n",
       " 'magic_bonus': '-2',\n",
       " 'effect': 'Cursed: Any spell cast while wearing this ring has its save DC reduced by 2.'}"
      ]
     },
     "execution_count": 12,
     "metadata": {},
     "output_type": "execute_result"
    }
   ],
   "source": [
    "generator.generate(name=\"Ring of Weakness\")"
   ]
  },
  {
   "cell_type": "code",
   "execution_count": 13,
   "id": "a93eea3c-a058-4df8-9f5c-baf976ca7b07",
   "metadata": {},
   "outputs": [
    {
     "data": {
      "text/plain": [
       "{'name': 'Ring of Flabby Muscles',\n",
       " 'description': 'This ring causes the wearer to gain weight and lose muscle definition, but also grants them a +2 bonus to Charisma checks.',\n",
       " 'value': 500,\n",
       " 'magic_bonus': '+1',\n",
       " 'effect': 'While wearing this ring, your Strength score decreases by 2, but your Charisma score increases by 2.'}"
      ]
     },
     "execution_count": 13,
     "metadata": {},
     "output_type": "execute_result"
    }
   ],
   "source": [
    "generator.generate(name=\"Ring of Flabby Muscles\")"
   ]
  },
  {
   "cell_type": "code",
   "execution_count": 14,
   "id": "298f39a8-41f7-483d-bb70-cd52b3fe9fb7",
   "metadata": {},
   "outputs": [
    {
     "data": {
      "text/plain": [
       "{'name': 'Ring of Flabby Muscles',\n",
       " 'description': 'This ring causes the wearer to gain weight and lose muscle definition, but also grants them advantage on Charisma checks.',\n",
       " 'value': 500,\n",
       " 'magic_bonus': '+1',\n",
       " 'effect': 'While wearing this ring, your Strength score decreases by 2 (minimum of 3), but you have advantage on Charisma checks.'}"
      ]
     },
     "execution_count": 14,
     "metadata": {},
     "output_type": "execute_result"
    }
   ],
   "source": [
    "generator.generate(culture=\"Human Civilization in Forgotten Realms\", name=\"Ring of Flabby Muscles\")"
   ]
  },
  {
   "cell_type": "code",
   "execution_count": 15,
   "id": "60af34ee-44af-4fea-ad56-05d7bc22f120",
   "metadata": {},
   "outputs": [
    {
     "data": {
      "text/plain": [
       "{'name': 'Ring of Flabby Muscles',\n",
       " 'description': \"This grotesque ring causes the wearer's muscles to become flaccid and useless, but grants them immunity to physical damage.\",\n",
       " 'value': 500,\n",
       " 'magic_bonus': '+1 to Constitution',\n",
       " 'effect': 'While wearing this ring, your Strength score is reduced by 4 (minimum of 1), but you are immune to bludgeoning, piercing, and slashing damage.'}"
      ]
     },
     "execution_count": 15,
     "metadata": {},
     "output_type": "execute_result"
    }
   ],
   "source": [
    "generator.generate(culture=\"Fantasy world based on Cthulu mythos\", name=\"Ring of Flabby Muscles\")"
   ]
  },
  {
   "cell_type": "code",
   "execution_count": 5,
   "id": "c784cb44-dfc3-443f-a5eb-55e6a21e13fc",
   "metadata": {},
   "outputs": [],
   "source": [
    "class_specific = \"\"\"You are a GM of an RPG. You are creating a campaign and need to generate a list of magic rings\n",
    "for treasure. The campaign is set in a culture similar to {culture}.\n",
    "Provide {number} suggested rings which would be useful to {class_type}. \n",
    "Express the results a JSON list of strings, where each is a name only.\n",
    "\n",
    "For example:\n",
    "[\n",
    "  \"Ring of Fire\",\n",
    "  \"Ring of Ice\",\n",
    "  \"Ring of Earth\",\n",
    "  \"Ring of Air\"\n",
    "]\n",
    "\n",
    "Display only the JSON list of objects with no additional text.\"\"\""
   ]
  },
  {
   "cell_type": "code",
   "execution_count": 6,
   "id": "bd495669-1773-469f-954f-a7021f77da58",
   "metadata": {},
   "outputs": [],
   "source": [
    "generator = TemplatedGenerator(class_specific, context=OllamaModelContext(model_name=\"mistral-nemo\", temperature=0))"
   ]
  },
  {
   "cell_type": "code",
   "execution_count": 7,
   "id": "11546bc4-ffea-4a74-a657-63ca9cd0bdb6",
   "metadata": {},
   "outputs": [
    {
     "data": {
      "text/plain": [
       "['Ring of Shadow Weave',\n",
       " \"Raven's Call Ring\",\n",
       " \"Bone Whisperer's Band\",\n",
       " 'Necrotic Charge Ring',\n",
       " 'Cloak of Shadows',\n",
       " 'Web of Deceit',\n",
       " 'Phantom Blade Ring',\n",
       " 'Veil of the Undying',\n",
       " \"Skeletal Minion's Seal\",\n",
       " \"Duskwalker's Circlet\"]"
      ]
     },
     "execution_count": 7,
     "metadata": {},
     "output_type": "execute_result"
    }
   ],
   "source": [
    "generator.generate(culture=\"Dark elf from the Underdark\", number=10, class_type=\"necromancer rogue\")"
   ]
  },
  {
   "cell_type": "code",
   "execution_count": 8,
   "id": "ed6907ed-f744-4fdd-82b9-46f17486feca",
   "metadata": {},
   "outputs": [
    {
     "data": {
      "text/plain": [
       "['Ring of Unyielding Fist',\n",
       " 'Ring of Raging Storm',\n",
       " 'Ring of Bloodied Axe',\n",
       " 'Ring of Frostbitten Steel',\n",
       " 'Ring of Thunderous Roar',\n",
       " 'Ring of Savage Strength',\n",
       " 'Ring of Battlefield Fury',\n",
       " 'Ring of Iron Hide',\n",
       " 'Ring of Unstoppable Onslaught',\n",
       " \"Ring of Barbarian's Wrath\"]"
      ]
     },
     "execution_count": 8,
     "metadata": {},
     "output_type": "execute_result"
    }
   ],
   "source": [
    "generator.generate(culture=\"Human barbarian culture from Forgotten Realms\", number=10, class_type=\"monk antipaladin\")"
   ]
  },
  {
   "cell_type": "code",
   "execution_count": 9,
   "id": "2882d1bc-4798-47e1-9ddb-c13f480473b0",
   "metadata": {},
   "outputs": [
    {
     "data": {
      "text/plain": [
       "[\"Ogre's Iron Grasp\",\n",
       " \"Boulder's Endurance\",\n",
       " \"Cave Bear's Frenzy\",\n",
       " \"River's Flow\",\n",
       " \"Thunder's Roar\",\n",
       " \"Mossy Stone's Camouflage\",\n",
       " \"Raven's Flight\",\n",
       " \"Moon's Hunger\",\n",
       " \"Frostbite's Bane\",\n",
       " \"Ogre's Unyielding Will\"]"
      ]
     },
     "execution_count": 9,
     "metadata": {},
     "output_type": "execute_result"
    }
   ],
   "source": [
    "generator.generate(culture=\"Ogre barbarian culture from Forgotten Realms\", number=10, class_type=\"ogre mage champion\")"
   ]
  },
  {
   "cell_type": "code",
   "execution_count": null,
   "id": "942a5fd0-6c04-435f-9e4c-c3c1c97e5326",
   "metadata": {},
   "outputs": [],
   "source": []
  }
 ],
 "metadata": {
  "kernelspec": {
   "display_name": "Python 3 (ipykernel)",
   "language": "python",
   "name": "python3"
  },
  "language_info": {
   "codemirror_mode": {
    "name": "ipython",
    "version": 3
   },
   "file_extension": ".py",
   "mimetype": "text/x-python",
   "name": "python",
   "nbconvert_exporter": "python",
   "pygments_lexer": "ipython3",
   "version": "3.11.9"
  }
 },
 "nbformat": 4,
 "nbformat_minor": 5
}
