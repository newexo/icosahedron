{
 "cells": [
  {
   "cell_type": "code",
   "execution_count": 1,
   "id": "97015b6a-cc03-4938-8b34-ac94a6a0c995",
   "metadata": {},
   "outputs": [],
   "source": [
    "from icosahedron.generate.ollama_model_context import OllamaModelContext\n",
    "from icosahedron.generate.templated_generator import TemplatedGenerator\n",
    "from icosahedron.directories import templates\n"
   ]
  },
  {
   "cell_type": "code",
   "execution_count": 2,
   "id": "3b78b41e-a7b2-42c3-b25c-02c7b34cb994",
   "metadata": {},
   "outputs": [],
   "source": [
    "context=OllamaModelContext(model_name=\"mistral-nemo\", temperature=0)"
   ]
  },
  {
   "cell_type": "code",
   "execution_count": 3,
   "id": "2b96276c-3645-4210-a2cc-b869719f80c6",
   "metadata": {},
   "outputs": [],
   "source": [
    "culture = \"European high fantasy\""
   ]
  },
  {
   "cell_type": "code",
   "execution_count": 4,
   "id": "22273764-4764-47ec-af6e-3f8a3771f1ba",
   "metadata": {},
   "outputs": [],
   "source": [
    "with open(templates(\"wand_list.txt\")) as f:\n",
    "    prompt_template = f.read()\n"
   ]
  },
  {
   "cell_type": "code",
   "execution_count": 5,
   "id": "6e2320a1-d4c6-4db4-aca9-49458908c9b5",
   "metadata": {},
   "outputs": [],
   "source": [
    "generator = TemplatedGenerator(context=context, prompt_template=prompt_template)"
   ]
  },
  {
   "cell_type": "code",
   "execution_count": 6,
   "id": "9c17eecb-bc82-4d83-b524-bf8cac054b65",
   "metadata": {},
   "outputs": [
    {
     "data": {
      "text/plain": [
       "['Wand of Enchantment',\n",
       " 'Staff of Elemental Mastery',\n",
       " 'Rod of Necromantic Might',\n",
       " 'Wand of Illusionary Duplication',\n",
       " 'Staff of Arcane Warding']"
      ]
     },
     "execution_count": 6,
     "metadata": {},
     "output_type": "execute_result"
    }
   ],
   "source": [
    "generator.generate(number=5, culture=culture)"
   ]
  },
  {
   "cell_type": "code",
   "execution_count": 10,
   "id": "88ed317c-52bd-41f3-835e-1de305053a40",
   "metadata": {},
   "outputs": [],
   "source": [
    "with open(templates(\"spell_list.txt\")) as f:\n",
    "    prompt_template = f.read()\n"
   ]
  },
  {
   "cell_type": "code",
   "execution_count": 11,
   "id": "a0f4c7b6-af31-434c-974c-bca43e9d7e6d",
   "metadata": {},
   "outputs": [],
   "source": [
    "generator = TemplatedGenerator(context=context, prompt_template=prompt_template, verbose=True)"
   ]
  },
  {
   "cell_type": "code",
   "execution_count": 12,
   "id": "31c4a596-e034-4545-8bf6-d373b1e4a3f1",
   "metadata": {},
   "outputs": [
    {
     "name": "stdout",
     "output_type": "stream",
     "text": [
      "[\n",
      "  \"Arcane Bolt\",\n",
      "  \"Mage Armor\",\n",
      "  \"Charm Person\",\n",
      "  \"Detect Magic\",\n",
      "  \"Cure Light Wounds\"\n",
      "]\n"
     ]
    },
    {
     "data": {
      "text/plain": [
       "['Arcane Bolt',\n",
       " 'Mage Armor',\n",
       " 'Charm Person',\n",
       " 'Detect Magic',\n",
       " 'Cure Light Wounds']"
      ]
     },
     "execution_count": 12,
     "metadata": {},
     "output_type": "execute_result"
    }
   ],
   "source": [
    "generator.generate(number=5, culture=culture, level=1, class_type=\"Wizard\")"
   ]
  },
  {
   "cell_type": "code",
   "execution_count": 13,
   "id": "c87e0238-1eda-4dc0-b209-e269f504d912",
   "metadata": {},
   "outputs": [
    {
     "name": "stdout",
     "output_type": "stream",
     "text": [
      "[\n",
      "  \"Arcane Bolt\",\n",
      "  \"Charm Animal\",\n",
      "  \"Detect Magic\",\n",
      "  \"Enchant Weapon\",\n",
      "  \"Find Familiar\",\n",
      "  \"Floating Disk\",\n",
      "  \"Haste\",\n",
      "  \"Identify\",\n",
      "  \"Light\",\n",
      "  \"Mage Armor\",\n",
      "  \"Magic Missile\",\n",
      "  \"Shield\",\n",
      "  \"Sleep\",\n",
      "  \"Speak with Animals\",\n",
      "  \"True Strike\",\n",
      "  \"Ventriloquism\",\n",
      "  \"Witch Bolt\",\n",
      "  \"Zephyr's Breath\"\n",
      "]\n"
     ]
    },
    {
     "data": {
      "text/plain": [
       "['Arcane Bolt',\n",
       " 'Charm Animal',\n",
       " 'Detect Magic',\n",
       " 'Enchant Weapon',\n",
       " 'Find Familiar',\n",
       " 'Floating Disk',\n",
       " 'Haste',\n",
       " 'Identify',\n",
       " 'Light',\n",
       " 'Mage Armor',\n",
       " 'Magic Missile',\n",
       " 'Shield',\n",
       " 'Sleep',\n",
       " 'Speak with Animals',\n",
       " 'True Strike',\n",
       " 'Ventriloquism',\n",
       " 'Witch Bolt',\n",
       " \"Zephyr's Breath\"]"
      ]
     },
     "execution_count": 13,
     "metadata": {},
     "output_type": "execute_result"
    }
   ],
   "source": [
    "generator.generate(number=20, culture=culture, level=1, class_type=\"Wizard\")"
   ]
  },
  {
   "cell_type": "code",
   "execution_count": 17,
   "id": "1c302364-54c9-4e00-96cf-2d680774e4f9",
   "metadata": {},
   "outputs": [],
   "source": [
    "with open(templates(\"spell.txt\")) as f:\n",
    "    prompt_template = f.read()\n"
   ]
  },
  {
   "cell_type": "code",
   "execution_count": 18,
   "id": "8ca59ca9-4d73-4783-a50d-68cfd5ecbd93",
   "metadata": {},
   "outputs": [],
   "source": [
    "generator = TemplatedGenerator(context=context, prompt_template=prompt_template, verbose=True)"
   ]
  },
  {
   "cell_type": "code",
   "execution_count": 19,
   "id": "4639cc48-417b-40b0-99e0-d5c00c9f304c",
   "metadata": {},
   "outputs": [
    {
     "name": "stdout",
     "output_type": "stream",
     "text": [
      "{\n",
      "    \"name\": \"Magic Missile\",\n",
      "    \"level\": 1,\n",
      "    \"class_type\": \"Wizard\",\n",
      "    \"school\": \"Evocation\",\n",
      "    \"casting_time\": \"1 action\",\n",
      "    \"range\": \"120 feet\",\n",
      "    \"target\": \"Up to three creatures within range\",\n",
      "    \"components\": \"V, S\",\n",
      "    \"duration\": \"Instantaneous\",\n",
      "    \"save\": \"None\",\n",
      "    \"description\": \"You create three magical missiles, each launched from your hand and speeding towards a target of your choice. Each missile deals 1d4 + 1 force damage to its target.\"\n",
      "}\n"
     ]
    },
    {
     "data": {
      "text/plain": [
       "{'name': 'Magic Missile',\n",
       " 'level': 1,\n",
       " 'class_type': 'Wizard',\n",
       " 'school': 'Evocation',\n",
       " 'casting_time': '1 action',\n",
       " 'range': '120 feet',\n",
       " 'target': 'Up to three creatures within range',\n",
       " 'components': 'V, S',\n",
       " 'duration': 'Instantaneous',\n",
       " 'save': 'None',\n",
       " 'description': 'You create three magical missiles, each launched from your hand and speeding towards a target of your choice. Each missile deals 1d4 + 1 force damage to its target.'}"
      ]
     },
     "execution_count": 19,
     "metadata": {},
     "output_type": "execute_result"
    }
   ],
   "source": [
    "generator.generate(culture=culture, level=1, class_type=\"Wizard\", name=\"Magic Missile\")"
   ]
  },
  {
   "cell_type": "code",
   "execution_count": 20,
   "id": "e83dd71f-ba4e-4e9c-bebb-63e6f8f2e612",
   "metadata": {},
   "outputs": [
    {
     "name": "stdout",
     "output_type": "stream",
     "text": [
      "{\n",
      "    \"name\": \"Sleep\",\n",
      "    \"level\": 1,\n",
      "    \"class_type\": \"Wizard\",\n",
      "    \"school\": \"Enchantment\",\n",
      "    \"casting_time\": \"1 action\",\n",
      "    \"range\": \"90 feet\",\n",
      "    \"target\": \"Creatures within a 20-foot-radius sphere centered on a point you choose within range\",\n",
      "    \"components\": \"V, S, M (a pinch of fine sand, rose petals, or a cricket)\",\n",
      "    \"duration\": \"1 minute\",\n",
      "    \"save\": \"Wisdom\",\n",
      "    \"description\": \"Creatures within the area must make a Wisdom saving throw. On a failed save, a creature falls asleep and remains unconscious for the duration. The sleeper awakens if it takes damage or someone uses an action to shake or slap the sleeper awake.\"\n",
      "}\n"
     ]
    },
    {
     "data": {
      "text/plain": [
       "{'name': 'Sleep',\n",
       " 'level': 1,\n",
       " 'class_type': 'Wizard',\n",
       " 'school': 'Enchantment',\n",
       " 'casting_time': '1 action',\n",
       " 'range': '90 feet',\n",
       " 'target': 'Creatures within a 20-foot-radius sphere centered on a point you choose within range',\n",
       " 'components': 'V, S, M (a pinch of fine sand, rose petals, or a cricket)',\n",
       " 'duration': '1 minute',\n",
       " 'save': 'Wisdom',\n",
       " 'description': 'Creatures within the area must make a Wisdom saving throw. On a failed save, a creature falls asleep and remains unconscious for the duration. The sleeper awakens if it takes damage or someone uses an action to shake or slap the sleeper awake.'}"
      ]
     },
     "execution_count": 20,
     "metadata": {},
     "output_type": "execute_result"
    }
   ],
   "source": [
    "generator.generate(culture=culture, level=1, class_type=\"Wizard\", name=\"Sleep\")"
   ]
  },
  {
   "cell_type": "code",
   "execution_count": 21,
   "id": "d3f6173f-b9a1-4e5f-85be-9aacd220cc38",
   "metadata": {},
   "outputs": [
    {
     "name": "stdout",
     "output_type": "stream",
     "text": [
      "{\n",
      "    \"name\": \"Speak with Dead\",\n",
      "    \"level\": 3,\n",
      "    \"class_type\": \"Cleric\",\n",
      "    \"school\": \"Necromancy\",\n",
      "    \"casting_time\": \"1 minute\",\n",
      "    \"range\": \"10 feet\",\n",
      "    \"target\": \"One corpse or undead creature within range\",\n",
      "    \"components\": \"V, S, M (a small piece of grave dirt, a sprinkle of ash from a cremation fire, and a pinch of salt)\",\n",
      "    \"duration\": \"1 hour\",\n",
      "    \"save\": \"None\",\n",
      "    \"description\": \"You can question the corpse or undead creature about events surrounding its death. The creature's knowledge is limited to what it knew during life, so it can't reveal secrets it didn't know or events that happened after its death.\"\n",
      "}\n"
     ]
    },
    {
     "data": {
      "text/plain": [
       "{'name': 'Speak with Dead',\n",
       " 'level': 3,\n",
       " 'class_type': 'Cleric',\n",
       " 'school': 'Necromancy',\n",
       " 'casting_time': '1 minute',\n",
       " 'range': '10 feet',\n",
       " 'target': 'One corpse or undead creature within range',\n",
       " 'components': 'V, S, M (a small piece of grave dirt, a sprinkle of ash from a cremation fire, and a pinch of salt)',\n",
       " 'duration': '1 hour',\n",
       " 'save': 'None',\n",
       " 'description': \"You can question the corpse or undead creature about events surrounding its death. The creature's knowledge is limited to what it knew during life, so it can't reveal secrets it didn't know or events that happened after its death.\"}"
      ]
     },
     "execution_count": 21,
     "metadata": {},
     "output_type": "execute_result"
    }
   ],
   "source": [
    "generator.generate(culture=culture, level=3, class_type=\"Cleric\", name=\"Speak with Dead\")"
   ]
  },
  {
   "cell_type": "code",
   "execution_count": 22,
   "id": "53b371da-b83c-47c7-9a29-3fa864e5e84b",
   "metadata": {},
   "outputs": [
    {
     "name": "stdout",
     "output_type": "stream",
     "text": [
      "{\n",
      "  \"name\": \"Summon Monster III\",\n",
      "  \"level\": 3,\n",
      "  \"class_type\": \"Wizard\",\n",
      "  \"school\": \"Conjuration\",\n",
      "  \"casting_time\": \"1 minute\",\n",
      "  \"range\": \"60 feet\",\n",
      "  \"target\": \"One creature of your choice within range\",\n",
      "  \"components\": \"V, S, M (a small stone statue of the monster to be summoned)\",\n",
      "  \"duration\": \"Instantaneous\",\n",
      "  \"save\": \"None\",\n",
      "  \"description\": \"You summon a creature from another plane. The creature appears in an unoccupied space you can see within range and is friendly towards you and your companions. Choose one of the following creatures: Awakened Shrub, Blink Dog, or Giant Toad. Alternatively, you can choose to summon any other monster with a challenge rating equal to or less than 3.\"\n",
      "}\n"
     ]
    },
    {
     "data": {
      "text/plain": [
       "{'name': 'Summon Monster III',\n",
       " 'level': 3,\n",
       " 'class_type': 'Wizard',\n",
       " 'school': 'Conjuration',\n",
       " 'casting_time': '1 minute',\n",
       " 'range': '60 feet',\n",
       " 'target': 'One creature of your choice within range',\n",
       " 'components': 'V, S, M (a small stone statue of the monster to be summoned)',\n",
       " 'duration': 'Instantaneous',\n",
       " 'save': 'None',\n",
       " 'description': 'You summon a creature from another plane. The creature appears in an unoccupied space you can see within range and is friendly towards you and your companions. Choose one of the following creatures: Awakened Shrub, Blink Dog, or Giant Toad. Alternatively, you can choose to summon any other monster with a challenge rating equal to or less than 3.'}"
      ]
     },
     "execution_count": 22,
     "metadata": {},
     "output_type": "execute_result"
    }
   ],
   "source": [
    "generator.generate(culture=culture, level=3, class_type=\"Wizard\", name=\"Summon Monster III\")"
   ]
  },
  {
   "cell_type": "code",
   "execution_count": 33,
   "id": "a76563c6-0e62-4c9f-856b-6b4a296073b5",
   "metadata": {},
   "outputs": [],
   "source": [
    "with open(templates(\"monster.txt\")) as f:\n",
    "    prompt_template = f.read()\n"
   ]
  },
  {
   "cell_type": "code",
   "execution_count": 34,
   "id": "4dcfea9f-38b0-4464-8c96-1a4910f0408e",
   "metadata": {},
   "outputs": [],
   "source": [
    "generator = TemplatedGenerator(context=context, prompt_template=prompt_template, verbose=True)"
   ]
  },
  {
   "cell_type": "code",
   "execution_count": 35,
   "id": "0197f406-5c72-4ba5-b067-b06ed8e17d21",
   "metadata": {},
   "outputs": [
    {
     "name": "stdout",
     "output_type": "stream",
     "text": [
      "{\n",
      "  \"name\": \"Goblin\",\n",
      "  \"hit_dice\": \"1d8 + 2\",\n",
      "  \"speed\": \"30 ft.\",\n",
      "  \"ac\": 15,\n",
      "  \"attacks\": \"Shortsword +4 (1d6+2), Shortbow +4 (1d6+2)\",\n",
      "  \"special_attacks\": \"Surprise Attack (+2 damage)\",\n",
      "  \"special\": \"Darkvision 60 ft., passive Perception 9\",\n",
      "  \"saves\": \"Fort +3, Ref +5, Will +3\",\n",
      "  \"skills\": \"Stealth +7, Perception +5\",\n",
      "  \"abilities\": \"Str 8, Dex 14, Con 12, Int 10, Wis 12, Cha 8\",\n",
      "  \"feats\": \"None\",\n",
      "  \"size\": \"Medium\",\n",
      "  \"challenge\": 1,\n",
      "  \"treasure\": \"Standard\",\n",
      "  \"alignment\": \"Chaotic evil\",\n",
      "  \"description\": \"Goblins are cunning and malicious creatures that often travel in groups. They are known for their mischief and cruelty.\"\n",
      "}\n"
     ]
    },
    {
     "data": {
      "text/plain": [
       "{'name': 'Goblin',\n",
       " 'hit_dice': '1d8 + 2',\n",
       " 'speed': '30 ft.',\n",
       " 'ac': 15,\n",
       " 'attacks': 'Shortsword +4 (1d6+2), Shortbow +4 (1d6+2)',\n",
       " 'special_attacks': 'Surprise Attack (+2 damage)',\n",
       " 'special': 'Darkvision 60 ft., passive Perception 9',\n",
       " 'saves': 'Fort +3, Ref +5, Will +3',\n",
       " 'skills': 'Stealth +7, Perception +5',\n",
       " 'abilities': 'Str 8, Dex 14, Con 12, Int 10, Wis 12, Cha 8',\n",
       " 'feats': 'None',\n",
       " 'size': 'Medium',\n",
       " 'challenge': 1,\n",
       " 'treasure': 'Standard',\n",
       " 'alignment': 'Chaotic evil',\n",
       " 'description': 'Goblins are cunning and malicious creatures that often travel in groups. They are known for their mischief and cruelty.'}"
      ]
     },
     "execution_count": 35,
     "metadata": {},
     "output_type": "execute_result"
    }
   ],
   "source": [
    "generator.generate(culture=culture, name=\"Goblin\")"
   ]
  },
  {
   "cell_type": "code",
   "execution_count": 36,
   "id": "57a83e0a-c418-4be3-9adf-4585fa05cc46",
   "metadata": {},
   "outputs": [
    {
     "name": "stdout",
     "output_type": "stream",
     "text": [
      "{\n",
      "  \"name\": \"Kobold\",\n",
      "  \"hit_dice\": \"1d8 + 2\",\n",
      "  \"speed\": \"30 ft.\",\n",
      "  \"ac\": 15,\n",
      "  \"attacks\": \"Shortsword +4 (1d6+2)\",\n",
      "  \"special_attacks\": \"Fire Breath (Recharge 5-6, 2d6 fire damage)\",\n",
      "  \"special\": \"Darkvision 60 ft., passive Perception 9\",\n",
      "  \"saves\": \"Fort +3, Ref +5, Will +7\",\n",
      "  \"skills\": \"Stealth +7, Perception +9\",\n",
      "  \"abilities\": \"Str 8, Dex 14, Con 12, Int 10, Wis 13, Cha 6\",\n",
      "  \"feats\": \"None\",\n",
      "  \"size\": \"Small\",\n",
      "  \"challenge\": 1/2,\n",
      "  \"treasure\": \"Standard\",\n",
      "  \"alignment\": \"Chaotic evil\",\n",
      "  \"description\": \"Kobolds are small, reptilian humanoids known for their cowardice and cunning. They often serve more powerful creatures.\"\n",
      "}\n"
     ]
    },
    {
     "ename": "JSONDecodeError",
     "evalue": "Expecting ',' delimiter: line 14 column 17 (char 439)",
     "output_type": "error",
     "traceback": [
      "\u001b[0;31m---------------------------------------------------------------------------\u001b[0m",
      "\u001b[0;31mJSONDecodeError\u001b[0m                           Traceback (most recent call last)",
      "Cell \u001b[0;32mIn[36], line 1\u001b[0m\n\u001b[0;32m----> 1\u001b[0m \u001b[43mgenerator\u001b[49m\u001b[38;5;241;43m.\u001b[39;49m\u001b[43mgenerate\u001b[49m\u001b[43m(\u001b[49m\u001b[43mculture\u001b[49m\u001b[38;5;241;43m=\u001b[39;49m\u001b[43mculture\u001b[49m\u001b[43m,\u001b[49m\u001b[43m \u001b[49m\u001b[43mname\u001b[49m\u001b[38;5;241;43m=\u001b[39;49m\u001b[38;5;124;43m\"\u001b[39;49m\u001b[38;5;124;43mKobold\u001b[39;49m\u001b[38;5;124;43m\"\u001b[39;49m\u001b[43m)\u001b[49m\n",
      "File \u001b[0;32m~/repos/icosahedron/icosahedron/generate/templated_generator.py:27\u001b[0m, in \u001b[0;36mTemplatedGenerator.generate\u001b[0;34m(self, **kwargs)\u001b[0m\n\u001b[1;32m     25\u001b[0m \u001b[38;5;28;01mif\u001b[39;00m \u001b[38;5;28mself\u001b[39m\u001b[38;5;241m.\u001b[39mverbose:\n\u001b[1;32m     26\u001b[0m     \u001b[38;5;28mprint\u001b[39m(result)\n\u001b[0;32m---> 27\u001b[0m \u001b[38;5;28;01mreturn\u001b[39;00m \u001b[38;5;28;43mself\u001b[39;49m\u001b[38;5;241;43m.\u001b[39;49m\u001b[43mcontext\u001b[49m\u001b[38;5;241;43m.\u001b[39;49m\u001b[43minterpret_json_result\u001b[49m\u001b[43m(\u001b[49m\u001b[43mresult\u001b[49m\u001b[43m)\u001b[49m\n",
      "File \u001b[0;32m~/repos/icosahedron/icosahedron/generate/ollama_model_context.py:12\u001b[0m, in \u001b[0;36mOllamaModelContext.interpret_json_result\u001b[0;34m(self, result)\u001b[0m\n\u001b[1;32m     11\u001b[0m \u001b[38;5;28;01mdef\u001b[39;00m \u001b[38;5;21minterpret_json_result\u001b[39m(\u001b[38;5;28mself\u001b[39m, result):\n\u001b[0;32m---> 12\u001b[0m     \u001b[38;5;28;01mreturn\u001b[39;00m \u001b[43mjson\u001b[49m\u001b[38;5;241;43m.\u001b[39;49m\u001b[43mloads\u001b[49m\u001b[43m(\u001b[49m\u001b[43mresult\u001b[49m\u001b[43m)\u001b[49m\n",
      "File \u001b[0;32m~/anaconda3/envs/d20/lib/python3.11/json/__init__.py:346\u001b[0m, in \u001b[0;36mloads\u001b[0;34m(s, cls, object_hook, parse_float, parse_int, parse_constant, object_pairs_hook, **kw)\u001b[0m\n\u001b[1;32m    341\u001b[0m     s \u001b[38;5;241m=\u001b[39m s\u001b[38;5;241m.\u001b[39mdecode(detect_encoding(s), \u001b[38;5;124m'\u001b[39m\u001b[38;5;124msurrogatepass\u001b[39m\u001b[38;5;124m'\u001b[39m)\n\u001b[1;32m    343\u001b[0m \u001b[38;5;28;01mif\u001b[39;00m (\u001b[38;5;28mcls\u001b[39m \u001b[38;5;129;01mis\u001b[39;00m \u001b[38;5;28;01mNone\u001b[39;00m \u001b[38;5;129;01mand\u001b[39;00m object_hook \u001b[38;5;129;01mis\u001b[39;00m \u001b[38;5;28;01mNone\u001b[39;00m \u001b[38;5;129;01mand\u001b[39;00m\n\u001b[1;32m    344\u001b[0m         parse_int \u001b[38;5;129;01mis\u001b[39;00m \u001b[38;5;28;01mNone\u001b[39;00m \u001b[38;5;129;01mand\u001b[39;00m parse_float \u001b[38;5;129;01mis\u001b[39;00m \u001b[38;5;28;01mNone\u001b[39;00m \u001b[38;5;129;01mand\u001b[39;00m\n\u001b[1;32m    345\u001b[0m         parse_constant \u001b[38;5;129;01mis\u001b[39;00m \u001b[38;5;28;01mNone\u001b[39;00m \u001b[38;5;129;01mand\u001b[39;00m object_pairs_hook \u001b[38;5;129;01mis\u001b[39;00m \u001b[38;5;28;01mNone\u001b[39;00m \u001b[38;5;129;01mand\u001b[39;00m \u001b[38;5;129;01mnot\u001b[39;00m kw):\n\u001b[0;32m--> 346\u001b[0m     \u001b[38;5;28;01mreturn\u001b[39;00m \u001b[43m_default_decoder\u001b[49m\u001b[38;5;241;43m.\u001b[39;49m\u001b[43mdecode\u001b[49m\u001b[43m(\u001b[49m\u001b[43ms\u001b[49m\u001b[43m)\u001b[49m\n\u001b[1;32m    347\u001b[0m \u001b[38;5;28;01mif\u001b[39;00m \u001b[38;5;28mcls\u001b[39m \u001b[38;5;129;01mis\u001b[39;00m \u001b[38;5;28;01mNone\u001b[39;00m:\n\u001b[1;32m    348\u001b[0m     \u001b[38;5;28mcls\u001b[39m \u001b[38;5;241m=\u001b[39m JSONDecoder\n",
      "File \u001b[0;32m~/anaconda3/envs/d20/lib/python3.11/json/decoder.py:337\u001b[0m, in \u001b[0;36mJSONDecoder.decode\u001b[0;34m(self, s, _w)\u001b[0m\n\u001b[1;32m    332\u001b[0m \u001b[38;5;28;01mdef\u001b[39;00m \u001b[38;5;21mdecode\u001b[39m(\u001b[38;5;28mself\u001b[39m, s, _w\u001b[38;5;241m=\u001b[39mWHITESPACE\u001b[38;5;241m.\u001b[39mmatch):\n\u001b[1;32m    333\u001b[0m \u001b[38;5;250m    \u001b[39m\u001b[38;5;124;03m\"\"\"Return the Python representation of ``s`` (a ``str`` instance\u001b[39;00m\n\u001b[1;32m    334\u001b[0m \u001b[38;5;124;03m    containing a JSON document).\u001b[39;00m\n\u001b[1;32m    335\u001b[0m \n\u001b[1;32m    336\u001b[0m \u001b[38;5;124;03m    \"\"\"\u001b[39;00m\n\u001b[0;32m--> 337\u001b[0m     obj, end \u001b[38;5;241m=\u001b[39m \u001b[38;5;28;43mself\u001b[39;49m\u001b[38;5;241;43m.\u001b[39;49m\u001b[43mraw_decode\u001b[49m\u001b[43m(\u001b[49m\u001b[43ms\u001b[49m\u001b[43m,\u001b[49m\u001b[43m \u001b[49m\u001b[43midx\u001b[49m\u001b[38;5;241;43m=\u001b[39;49m\u001b[43m_w\u001b[49m\u001b[43m(\u001b[49m\u001b[43ms\u001b[49m\u001b[43m,\u001b[49m\u001b[43m \u001b[49m\u001b[38;5;241;43m0\u001b[39;49m\u001b[43m)\u001b[49m\u001b[38;5;241;43m.\u001b[39;49m\u001b[43mend\u001b[49m\u001b[43m(\u001b[49m\u001b[43m)\u001b[49m\u001b[43m)\u001b[49m\n\u001b[1;32m    338\u001b[0m     end \u001b[38;5;241m=\u001b[39m _w(s, end)\u001b[38;5;241m.\u001b[39mend()\n\u001b[1;32m    339\u001b[0m     \u001b[38;5;28;01mif\u001b[39;00m end \u001b[38;5;241m!=\u001b[39m \u001b[38;5;28mlen\u001b[39m(s):\n",
      "File \u001b[0;32m~/anaconda3/envs/d20/lib/python3.11/json/decoder.py:353\u001b[0m, in \u001b[0;36mJSONDecoder.raw_decode\u001b[0;34m(self, s, idx)\u001b[0m\n\u001b[1;32m    344\u001b[0m \u001b[38;5;250m\u001b[39m\u001b[38;5;124;03m\"\"\"Decode a JSON document from ``s`` (a ``str`` beginning with\u001b[39;00m\n\u001b[1;32m    345\u001b[0m \u001b[38;5;124;03ma JSON document) and return a 2-tuple of the Python\u001b[39;00m\n\u001b[1;32m    346\u001b[0m \u001b[38;5;124;03mrepresentation and the index in ``s`` where the document ended.\u001b[39;00m\n\u001b[0;32m   (...)\u001b[0m\n\u001b[1;32m    350\u001b[0m \n\u001b[1;32m    351\u001b[0m \u001b[38;5;124;03m\"\"\"\u001b[39;00m\n\u001b[1;32m    352\u001b[0m \u001b[38;5;28;01mtry\u001b[39;00m:\n\u001b[0;32m--> 353\u001b[0m     obj, end \u001b[38;5;241m=\u001b[39m \u001b[38;5;28;43mself\u001b[39;49m\u001b[38;5;241;43m.\u001b[39;49m\u001b[43mscan_once\u001b[49m\u001b[43m(\u001b[49m\u001b[43ms\u001b[49m\u001b[43m,\u001b[49m\u001b[43m \u001b[49m\u001b[43midx\u001b[49m\u001b[43m)\u001b[49m\n\u001b[1;32m    354\u001b[0m \u001b[38;5;28;01mexcept\u001b[39;00m \u001b[38;5;167;01mStopIteration\u001b[39;00m \u001b[38;5;28;01mas\u001b[39;00m err:\n\u001b[1;32m    355\u001b[0m     \u001b[38;5;28;01mraise\u001b[39;00m JSONDecodeError(\u001b[38;5;124m\"\u001b[39m\u001b[38;5;124mExpecting value\u001b[39m\u001b[38;5;124m\"\u001b[39m, s, err\u001b[38;5;241m.\u001b[39mvalue) \u001b[38;5;28;01mfrom\u001b[39;00m \u001b[38;5;28;01mNone\u001b[39;00m\n",
      "\u001b[0;31mJSONDecodeError\u001b[0m: Expecting ',' delimiter: line 14 column 17 (char 439)"
     ]
    }
   ],
   "source": [
    "generator.generate(culture=culture, name=\"Kobold\")"
   ]
  },
  {
   "cell_type": "code",
   "execution_count": 37,
   "id": "b7678f19-c938-4202-ae5d-3983a00e56b8",
   "metadata": {},
   "outputs": [
    {
     "name": "stdout",
     "output_type": "stream",
     "text": [
      "{\n",
      "  \"name\": \"Ancient Red Dragon\",\n",
      "  \"hit_dice\": \"21d10 + 370\",\n",
      "  \"speed\": \"40 ft., fly 80 ft.\",\n",
      "  \"ac\": 23,\n",
      "  \"attacks\": \"Multiattack (+19 to hit, reach 10 ft.), Bite (+19 to hit, reach 5 ft.) 2d10 + 10 slashing damage, Claw (+19 to hit, reach 5 ft.) 2d6 + 7 slashing damage\",\n",
      "  \"special_attacks\": \"Breath Weapon (Recharge 5-6) (+19 to hit, DC 23), 84 ft. line of fire, 14d10 acid damage\",\n",
      "  \"special\": \"Blindsight 60 ft., Darkvision 120 ft., Passive Perception 27\",\n",
      "  \"saves\": \"Fort +25, Ref +13, Will +19\",\n",
      "  \"skills\": \"Perception +27, Stealth +13\",\n",
      "  \"abilities\": \"Str 30, Dex 14, Con 23, Int 16, Wis 23, Cha 18\",\n",
      "  \"feats\": \"Flyby Attack\",\n",
      "  \"size\": \"Huge\",\n",
      "  \"challenge\": 25,\n",
      "  \"treasure\": \"Art, Gems\",\n",
      "  \"alignment\": \"Chaotic evil\",\n",
      "  \"description\": \"Ancient red dragons are massive, flying reptiles with scales that shimmer like liquid fire. They are known for their greed and cruelty.\"\n",
      "}\n"
     ]
    },
    {
     "data": {
      "text/plain": [
       "{'name': 'Ancient Red Dragon',\n",
       " 'hit_dice': '21d10 + 370',\n",
       " 'speed': '40 ft., fly 80 ft.',\n",
       " 'ac': 23,\n",
       " 'attacks': 'Multiattack (+19 to hit, reach 10 ft.), Bite (+19 to hit, reach 5 ft.) 2d10 + 10 slashing damage, Claw (+19 to hit, reach 5 ft.) 2d6 + 7 slashing damage',\n",
       " 'special_attacks': 'Breath Weapon (Recharge 5-6) (+19 to hit, DC 23), 84 ft. line of fire, 14d10 acid damage',\n",
       " 'special': 'Blindsight 60 ft., Darkvision 120 ft., Passive Perception 27',\n",
       " 'saves': 'Fort +25, Ref +13, Will +19',\n",
       " 'skills': 'Perception +27, Stealth +13',\n",
       " 'abilities': 'Str 30, Dex 14, Con 23, Int 16, Wis 23, Cha 18',\n",
       " 'feats': 'Flyby Attack',\n",
       " 'size': 'Huge',\n",
       " 'challenge': 25,\n",
       " 'treasure': 'Art, Gems',\n",
       " 'alignment': 'Chaotic evil',\n",
       " 'description': 'Ancient red dragons are massive, flying reptiles with scales that shimmer like liquid fire. They are known for their greed and cruelty.'}"
      ]
     },
     "execution_count": 37,
     "metadata": {},
     "output_type": "execute_result"
    }
   ],
   "source": [
    "generator.generate(culture=culture, name=\"Ancient Red Dragon\")"
   ]
  },
  {
   "cell_type": "code",
   "execution_count": 38,
   "id": "efa60b2b-8e58-4a90-88a0-a2e3c5bdf196",
   "metadata": {},
   "outputs": [
    {
     "name": "stdout",
     "output_type": "stream",
     "text": [
      "{\n",
      "  \"name\": \"Succubus\",\n",
      "  \"hit_dice\": \"6d8 + 12\",\n",
      "  \"speed\": \"40 ft., fly 50 ft.\",\n",
      "  \"ac\": 17,\n",
      "  \"attacks\": \"Dagger +9 (1d4+5), Tail Spike +9 (1d6+5)\",\n",
      "  \"special_attacks\": \"Charm (DC 15), Magic Resistance\",\n",
      "  \"special\": \"Darkvision 60 ft., passive Perception 13, Innate Spellcasting (Warlock)\",\n",
      "  \"saves\": \"Fort +7, Ref +9, Will +11\",\n",
      "  \"skills\": \"Deception +13, Insight +11, Persuasion +13, Stealth +9\",\n",
      "  \"abilities\": \"Str 10, Dex 20, Con 14, Int 16, Wis 15, Cha 27\",\n",
      "  \"feats\": \"None\",\n",
      "  \"size\": \"Medium\",\n",
      "  \"challenge\": 8,\n",
      "  \"treasure\": \"Standard\",\n",
      "  \"alignment\": \"Chaotic evil\",\n",
      "  \"description\": \"Succubi are demonic creatures that feed on the life force of mortals, often appearing as beautiful women to lure their prey.\"\n",
      "}\n"
     ]
    },
    {
     "data": {
      "text/plain": [
       "{'name': 'Succubus',\n",
       " 'hit_dice': '6d8 + 12',\n",
       " 'speed': '40 ft., fly 50 ft.',\n",
       " 'ac': 17,\n",
       " 'attacks': 'Dagger +9 (1d4+5), Tail Spike +9 (1d6+5)',\n",
       " 'special_attacks': 'Charm (DC 15), Magic Resistance',\n",
       " 'special': 'Darkvision 60 ft., passive Perception 13, Innate Spellcasting (Warlock)',\n",
       " 'saves': 'Fort +7, Ref +9, Will +11',\n",
       " 'skills': 'Deception +13, Insight +11, Persuasion +13, Stealth +9',\n",
       " 'abilities': 'Str 10, Dex 20, Con 14, Int 16, Wis 15, Cha 27',\n",
       " 'feats': 'None',\n",
       " 'size': 'Medium',\n",
       " 'challenge': 8,\n",
       " 'treasure': 'Standard',\n",
       " 'alignment': 'Chaotic evil',\n",
       " 'description': 'Succubi are demonic creatures that feed on the life force of mortals, often appearing as beautiful women to lure their prey.'}"
      ]
     },
     "execution_count": 38,
     "metadata": {},
     "output_type": "execute_result"
    }
   ],
   "source": [
    "generator.generate(culture=culture, name=\"Succubus\")"
   ]
  },
  {
   "cell_type": "code",
   "execution_count": 39,
   "id": "0e717fa4-a003-4275-b5a4-90658b04d522",
   "metadata": {},
   "outputs": [
    {
     "name": "stdout",
     "output_type": "stream",
     "text": [
      "{\n",
      "  \"name\": \"Pit Fiend\",\n",
      "  \"hit_dice\": \"12d10 + 60\",\n",
      "  \"speed\": \"30 ft.\",\n",
      "  \"ac\": 18,\n",
      "  \"attacks\": \"Multiattack (+15 to hit, reach 10 ft.): Claw +17 (2d6+9), Tail +13 (2d4+9)\",\n",
      "  \"special_attacks\": \"Fire Breath (+15 to hit, DC 22, range 60 ft., damage 8d10 fire)\",\n",
      "  \"special\": \"Flyby Attack, Magic Resistance\",\n",
      "  \"saves\": \"Fort +17, Ref +13, Will +14\",\n",
      "  \"skills\": \"Perception +19\",\n",
      "  \"abilities\": \"Str 25, Dex 15, Con 20, Int 16, Wis 18, Cha 16\",\n",
      "  \"feats\": \"\",\n",
      "  \"size\": \"Large\",\n",
      "  \"challenge\": 14,\n",
      "  \"treasure\": \"Standard\",\n",
      "  \"alignment\": \"Lawful evil\",\n",
      "  \"description\": \"Pit fiends are powerful devils that serve as generals in the armies of Hell.\"\n",
      "}\n"
     ]
    },
    {
     "data": {
      "text/plain": [
       "{'name': 'Pit Fiend',\n",
       " 'hit_dice': '12d10 + 60',\n",
       " 'speed': '30 ft.',\n",
       " 'ac': 18,\n",
       " 'attacks': 'Multiattack (+15 to hit, reach 10 ft.): Claw +17 (2d6+9), Tail +13 (2d4+9)',\n",
       " 'special_attacks': 'Fire Breath (+15 to hit, DC 22, range 60 ft., damage 8d10 fire)',\n",
       " 'special': 'Flyby Attack, Magic Resistance',\n",
       " 'saves': 'Fort +17, Ref +13, Will +14',\n",
       " 'skills': 'Perception +19',\n",
       " 'abilities': 'Str 25, Dex 15, Con 20, Int 16, Wis 18, Cha 16',\n",
       " 'feats': '',\n",
       " 'size': 'Large',\n",
       " 'challenge': 14,\n",
       " 'treasure': 'Standard',\n",
       " 'alignment': 'Lawful evil',\n",
       " 'description': 'Pit fiends are powerful devils that serve as generals in the armies of Hell.'}"
      ]
     },
     "execution_count": 39,
     "metadata": {},
     "output_type": "execute_result"
    }
   ],
   "source": [
    "generator.generate(culture=culture, name=\"Pit Fiend\")"
   ]
  },
  {
   "cell_type": "code",
   "execution_count": 40,
   "id": "9ba0da59-43e4-4d9b-8ebb-2c73d0c6ab68",
   "metadata": {},
   "outputs": [
    {
     "name": "stdout",
     "output_type": "stream",
     "text": [
      "{\n",
      "  \"name\": \"Asmodeus\",\n",
      "  \"hit_dice\": \"12d8 + 60\",\n",
      "  \"speed\": \"30 ft.\",\n",
      "  \"ac\": 19,\n",
      "  \"attacks\": \"Mace of Disruption +14 (2d6+7), Horn +14 (2d4+7)\",\n",
      "  \"special_attacks\": \"Fireball (8th level, DC 16), Teleport\",\n",
      "  \"special\": \"Darkvision 120 ft., passive Perception 13, Legendary Resistance (3/day), Magic Resistance\",\n",
      "  \"saves\": \"Fort +15, Ref +9, Will +11\",\n",
      "  \"skills\": \"Deception +17, Intimidation +17, Religion +15\",\n",
      "  \"abilities\": \"Str 24, Dex 10, Con 18, Int 16, Wis 13, Cha 25\",\n",
      "  \"feats\": \"Toughness\",\n",
      "  \"size\": \"Large\",\n",
      "  \"challenge\": 23,\n",
      "  \"treasure\": \"Art, Gems\",\n",
      "  \"alignment\": \"Lawful evil\",\n",
      "  \"description\": \"Asmodeus is the lord of the Nine Hells and one of the most powerful beings in the multiverse. He appears as a tall, muscular humanoid with red skin, black hair, and goat-like features.\"\n",
      "}\n"
     ]
    },
    {
     "data": {
      "text/plain": [
       "{'name': 'Asmodeus',\n",
       " 'hit_dice': '12d8 + 60',\n",
       " 'speed': '30 ft.',\n",
       " 'ac': 19,\n",
       " 'attacks': 'Mace of Disruption +14 (2d6+7), Horn +14 (2d4+7)',\n",
       " 'special_attacks': 'Fireball (8th level, DC 16), Teleport',\n",
       " 'special': 'Darkvision 120 ft., passive Perception 13, Legendary Resistance (3/day), Magic Resistance',\n",
       " 'saves': 'Fort +15, Ref +9, Will +11',\n",
       " 'skills': 'Deception +17, Intimidation +17, Religion +15',\n",
       " 'abilities': 'Str 24, Dex 10, Con 18, Int 16, Wis 13, Cha 25',\n",
       " 'feats': 'Toughness',\n",
       " 'size': 'Large',\n",
       " 'challenge': 23,\n",
       " 'treasure': 'Art, Gems',\n",
       " 'alignment': 'Lawful evil',\n",
       " 'description': 'Asmodeus is the lord of the Nine Hells and one of the most powerful beings in the multiverse. He appears as a tall, muscular humanoid with red skin, black hair, and goat-like features.'}"
      ]
     },
     "execution_count": 40,
     "metadata": {},
     "output_type": "execute_result"
    }
   ],
   "source": [
    "generator.generate(culture=culture, name=\"Asmodeus\")"
   ]
  },
  {
   "cell_type": "code",
   "execution_count": 41,
   "id": "cfe10fa5-45a0-4cb9-aaae-abf42bc21e01",
   "metadata": {},
   "outputs": [
    {
     "name": "stdout",
     "output_type": "stream",
     "text": [
      "{\n",
      "  \"name\": \"Demogorgon\",\n",
      "  \"hit_dice\": \"6d10 + 30\",\n",
      "  \"speed\": \"40 ft.\",\n",
      "  \"ac\": 18,\n",
      "  \"attacks\": \"Multiattack (+9, two attacks), Claw (+12, 2d6+7), Tail (+9, 2d6+5)\",\n",
      "  \"special_attacks\": \"Frightful Presence (DC 14)\",\n",
      "  \"special\": \"Darkvision 120 ft., passive Perception 13\",\n",
      "  \"saves\": \"Fort +11, Ref +8, Will +9\",\n",
      "  \"skills\": \"Perception +13, Stealth +6\",\n",
      "  \"abilities\": \"Str 24, Dex 14, Con 18, Int 7, Wis 15, Cha 13\",\n",
      "  \"feats\": \"Toughness\",\n",
      "  \"size\": \"Large\",\n",
      "  \"challenge\": 9,\n",
      "  \"treasure\": \"Standard\",\n",
      "  \"alignment\": \"Chaotic evil\",\n",
      "  \"description\": \"Demogorgons are terrifying creatures with two heads and four arms, known for their strength and cunning.\"\n",
      "}\n"
     ]
    },
    {
     "data": {
      "text/plain": [
       "{'name': 'Demogorgon',\n",
       " 'hit_dice': '6d10 + 30',\n",
       " 'speed': '40 ft.',\n",
       " 'ac': 18,\n",
       " 'attacks': 'Multiattack (+9, two attacks), Claw (+12, 2d6+7), Tail (+9, 2d6+5)',\n",
       " 'special_attacks': 'Frightful Presence (DC 14)',\n",
       " 'special': 'Darkvision 120 ft., passive Perception 13',\n",
       " 'saves': 'Fort +11, Ref +8, Will +9',\n",
       " 'skills': 'Perception +13, Stealth +6',\n",
       " 'abilities': 'Str 24, Dex 14, Con 18, Int 7, Wis 15, Cha 13',\n",
       " 'feats': 'Toughness',\n",
       " 'size': 'Large',\n",
       " 'challenge': 9,\n",
       " 'treasure': 'Standard',\n",
       " 'alignment': 'Chaotic evil',\n",
       " 'description': 'Demogorgons are terrifying creatures with two heads and four arms, known for their strength and cunning.'}"
      ]
     },
     "execution_count": 41,
     "metadata": {},
     "output_type": "execute_result"
    }
   ],
   "source": [
    "generator.generate(culture=culture, name=\"Demgorgon\")"
   ]
  },
  {
   "cell_type": "code",
   "execution_count": 42,
   "id": "85e0e1a7-f98b-435e-aa24-462b3bb3f5fd",
   "metadata": {},
   "outputs": [
    {
     "name": "stdout",
     "output_type": "stream",
     "text": [
      "{\n",
      "  \"name\": \"Green Slaad\",\n",
      "  \"hit_dice\": \"6d10 + 30\",\n",
      "  \"speed\": \"40 ft., fly 80 ft.\",\n",
      "  \"ac\": 17,\n",
      "  \"attacks\": \"Multiattack (+9), Bite +9 (2d6+5), Claws +9 (1d6+5) × 2, Tail +9 (2d6+5)\",\n",
      "  \"special_attacks\": \"Slaad's Grasp: Melee Weapon Attack +9, reach 10 ft., one target. Hit: The slaad grapples the target (escape DC 17). Until this grapple ends, the target is restrained, and the slaad can't use its bite or claws on other targets.\",\n",
      "  \"special\": \"Darkvision 60 ft., passive Perception 13\",\n",
      "  \"saves\": \"Fort +9, Ref +5, Will +7\",\n",
      "  \"skills\": \"Perception +9, Stealth +5\",\n",
      "  \"abilities\": \"Str 20 (+5), Dex 14 (+2), Con 16 (+3), Int 8 (-1), Wis 13 (+1), Cha 11 (+0)\",\n",
      "  \"feats\": \"Toughness\",\n",
      "  \"size\": \"Medium\",\n",
      "  \"challenge\": 7,\n",
      "  \"treasure\": \"Standard\",\n",
      "  \"alignment\": \"Chaotic evil\",\n",
      "  \"description\": \"Green slaad are hulking, muscular humanoids with green skin and glowing red eyes. They are known for their strength and cunning.\"\n",
      "}\n"
     ]
    },
    {
     "data": {
      "text/plain": [
       "{'name': 'Green Slaad',\n",
       " 'hit_dice': '6d10 + 30',\n",
       " 'speed': '40 ft., fly 80 ft.',\n",
       " 'ac': 17,\n",
       " 'attacks': 'Multiattack (+9), Bite +9 (2d6+5), Claws +9 (1d6+5) × 2, Tail +9 (2d6+5)',\n",
       " 'special_attacks': \"Slaad's Grasp: Melee Weapon Attack +9, reach 10 ft., one target. Hit: The slaad grapples the target (escape DC 17). Until this grapple ends, the target is restrained, and the slaad can't use its bite or claws on other targets.\",\n",
       " 'special': 'Darkvision 60 ft., passive Perception 13',\n",
       " 'saves': 'Fort +9, Ref +5, Will +7',\n",
       " 'skills': 'Perception +9, Stealth +5',\n",
       " 'abilities': 'Str 20 (+5), Dex 14 (+2), Con 16 (+3), Int 8 (-1), Wis 13 (+1), Cha 11 (+0)',\n",
       " 'feats': 'Toughness',\n",
       " 'size': 'Medium',\n",
       " 'challenge': 7,\n",
       " 'treasure': 'Standard',\n",
       " 'alignment': 'Chaotic evil',\n",
       " 'description': 'Green slaad are hulking, muscular humanoids with green skin and glowing red eyes. They are known for their strength and cunning.'}"
      ]
     },
     "execution_count": 42,
     "metadata": {},
     "output_type": "execute_result"
    }
   ],
   "source": [
    "generator.generate(culture=culture, name=\"Green Slaad\")"
   ]
  },
  {
   "cell_type": "code",
   "execution_count": 43,
   "id": "f9bd3754-fb62-451c-9438-4d3cdaf42bc3",
   "metadata": {},
   "outputs": [
    {
     "name": "stdout",
     "output_type": "stream",
     "text": [
      "{\n",
      "  \"name\": \"Green Slime\",\n",
      "  \"hit_dice\": \"6d8 + 3\",\n",
      "  \"speed\": \"20 ft.\",\n",
      "  \"ac\": 14,\n",
      "  \"attacks\": \"Slam +5 (1d6 + 3)\",\n",
      "  \"special_attacks\": \"Acidic Touch: Melee Weapon Attack: +5 to hit, reach 5 ft., one target. Hit: 7 (2d6) acid damage.\",\n",
      "  \"special\": \"Darkvision 60 ft., passive Perception 10\",\n",
      "  \"saves\": \"Fort +4, Ref +2, Will +2\",\n",
      "  \"skills\": \"Stealth +4\",\n",
      "  \"abilities\": \"Str 13 (+1), Dex 14 (+2), Con 15 (+2), Int 6 (-2), Wis 10 (+0), Cha 8 (-1)\",\n",
      "  \"feats\": \"\",\n",
      "  \"size\": \"Medium\",\n",
      "  \"challenge\": 1,\n",
      "  \"treasure\": \"Standard\",\n",
      "  \"alignment\": \"Neutral evil\",\n",
      "  \"description\": \"Green slimes are amorphous blobs of sentient, corrosive ooze. They are typically green in color and can move slowly across the ground.\"\n",
      "}\n"
     ]
    },
    {
     "data": {
      "text/plain": [
       "{'name': 'Green Slime',\n",
       " 'hit_dice': '6d8 + 3',\n",
       " 'speed': '20 ft.',\n",
       " 'ac': 14,\n",
       " 'attacks': 'Slam +5 (1d6 + 3)',\n",
       " 'special_attacks': 'Acidic Touch: Melee Weapon Attack: +5 to hit, reach 5 ft., one target. Hit: 7 (2d6) acid damage.',\n",
       " 'special': 'Darkvision 60 ft., passive Perception 10',\n",
       " 'saves': 'Fort +4, Ref +2, Will +2',\n",
       " 'skills': 'Stealth +4',\n",
       " 'abilities': 'Str 13 (+1), Dex 14 (+2), Con 15 (+2), Int 6 (-2), Wis 10 (+0), Cha 8 (-1)',\n",
       " 'feats': '',\n",
       " 'size': 'Medium',\n",
       " 'challenge': 1,\n",
       " 'treasure': 'Standard',\n",
       " 'alignment': 'Neutral evil',\n",
       " 'description': 'Green slimes are amorphous blobs of sentient, corrosive ooze. They are typically green in color and can move slowly across the ground.'}"
      ]
     },
     "execution_count": 43,
     "metadata": {},
     "output_type": "execute_result"
    }
   ],
   "source": [
    "generator.generate(culture=culture, name=\"Green Slime\")"
   ]
  },
  {
   "cell_type": "code",
   "execution_count": null,
   "id": "f0c83bd4-3520-42fd-93b7-e7cc6baa4991",
   "metadata": {},
   "outputs": [],
   "source": []
  }
 ],
 "metadata": {
  "kernelspec": {
   "display_name": "Python 3 (ipykernel)",
   "language": "python",
   "name": "python3"
  },
  "language_info": {
   "codemirror_mode": {
    "name": "ipython",
    "version": 3
   },
   "file_extension": ".py",
   "mimetype": "text/x-python",
   "name": "python",
   "nbconvert_exporter": "python",
   "pygments_lexer": "ipython3",
   "version": "3.11.9"
  }
 },
 "nbformat": 4,
 "nbformat_minor": 5
}
